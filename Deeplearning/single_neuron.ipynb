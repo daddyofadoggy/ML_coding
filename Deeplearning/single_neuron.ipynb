{
 "cells": [
  {
   "cell_type": "code",
   "execution_count": 1,
   "id": "58185fa8-b278-4f77-923d-23f508d08354",
   "metadata": {},
   "outputs": [],
   "source": [
    "import numpy as np\n",
    "import math"
   ]
  },
  {
   "cell_type": "code",
   "execution_count": 41,
   "id": "8fadee23-81d2-4c4f-a08b-b6d1f39992a3",
   "metadata": {},
   "outputs": [],
   "source": [
    "def sigmoid(x):\n",
    "    return 1 / (1 + np.exp(-x))\n",
    "\n",
    "def neuron_predict(features, labels, weights, bias):\n",
    "    \"\"\"\n",
    "    Simulates a single neuron with sigmoid activation.\n",
    "\n",
    "    Parameters:\n",
    "    - features: List of lists, where each inner list is a feature vector.\n",
    "    - labels: List of true binary labels (0 or 1).\n",
    "    - weights: List of weights (one per feature).\n",
    "    - bias: Scalar bias term.\n",
    "\n",
    "    Returns:\n",
    "    - probs_rounded: List of predicted probabilities rounded to 4 decimal places.\n",
    "    - mse_rounded: Mean squared error rounded to 4 decimal places.\n",
    "    \"\"\"\n",
    "    # Convert inputs to numpy arrays for vectorized computation\n",
    "    X = np.array(features)\n",
    "    y = np.array(labels)\n",
    "    w = np.array(weights)\n",
    "    \n",
    "    logits = X @ w + bias\n",
    "    predictions = sigmoid(logits)\n",
    "    mse = np.mean((predictions - y)**2)\n",
    "\n",
    "    probabilities = np.round(predictions, 4).tolist()\n",
    "    mse = round(mse, 4)\n",
    "\n",
    "    return probabilities, mse"
   ]
  },
  {
   "cell_type": "code",
   "execution_count": 42,
   "id": "b19cd087-3296-4da4-a004-86eb1a2ff6bc",
   "metadata": {},
   "outputs": [],
   "source": [
    "features = [[0.5, 1.0], [-1.5, -2.0], [2.0, 1.5]]\n",
    "labels = [0, 1, 0]\n",
    "weights = [0.7, -0.4]\n",
    "bias = -0.1"
   ]
  },
  {
   "cell_type": "code",
   "execution_count": 43,
   "id": "99cc8446-ff9d-449f-8177-1ad82013e13e",
   "metadata": {},
   "outputs": [
    {
     "data": {
      "text/plain": [
       "([0.4626, 0.4134, 0.6682], np.float64(0.3349))"
      ]
     },
     "execution_count": 43,
     "metadata": {},
     "output_type": "execute_result"
    }
   ],
   "source": [
    "neuron_predict(features, labels, weights, bias)"
   ]
  },
  {
   "cell_type": "code",
   "execution_count": null,
   "id": "8e03c5bb-fdc1-485d-ad6f-b01dfd5f3752",
   "metadata": {},
   "outputs": [],
   "source": []
  }
 ],
 "metadata": {
  "kernelspec": {
   "display_name": "myenv",
   "language": "python",
   "name": "myenv"
  },
  "language_info": {
   "codemirror_mode": {
    "name": "ipython",
    "version": 3
   },
   "file_extension": ".py",
   "mimetype": "text/x-python",
   "name": "python",
   "nbconvert_exporter": "python",
   "pygments_lexer": "ipython3",
   "version": "3.9.6"
  }
 },
 "nbformat": 4,
 "nbformat_minor": 5
}
