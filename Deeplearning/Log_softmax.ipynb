{
 "cells": [
  {
   "cell_type": "code",
   "execution_count": 1,
   "id": "cd004876-ca2d-4f6b-99f0-51dd7966343c",
   "metadata": {},
   "outputs": [],
   "source": [
    "import numpy as np"
   ]
  },
  {
   "cell_type": "code",
   "execution_count": 19,
   "id": "ec7961e3-8645-437f-8427-8af57da61225",
   "metadata": {},
   "outputs": [],
   "source": [
    "def log_softmax(scores: list) -> np.ndarray:\n",
    "    s = np.log(sum([np.exp((x_2 - max(scores))) for x_2 in scores]))\n",
    "    log_softmax = np.array([x_1 - max(scores) - s for x_1 in scores])\n",
    "    return np.round(log_softmax, 4)"
   ]
  },
  {
   "cell_type": "code",
   "execution_count": null,
   "id": "0a726b0c-eb4a-43ae-8f09-e0c2665804c2",
   "metadata": {},
   "outputs": [],
   "source": []
  },
  {
   "cell_type": "code",
   "execution_count": 4,
   "id": "d92ee235-21db-4715-93de-aeb88bcc854f",
   "metadata": {},
   "outputs": [],
   "source": [
    "A = np.array([1, 2, 3])\n",
    "ss = np.exp(A) / sum(np.exp(A))"
   ]
  },
  {
   "cell_type": "code",
   "execution_count": 5,
   "id": "d11f25f0-7b75-434b-83af-2537887f8172",
   "metadata": {},
   "outputs": [
    {
     "data": {
      "text/plain": [
       "array([0.09003057, 0.24472847, 0.66524096])"
      ]
     },
     "execution_count": 5,
     "metadata": {},
     "output_type": "execute_result"
    }
   ],
   "source": [
    "ss"
   ]
  },
  {
   "cell_type": "code",
   "execution_count": 6,
   "id": "af82fab7-2ac9-401f-a7fd-d3b54a77bc75",
   "metadata": {},
   "outputs": [
    {
     "data": {
      "text/plain": [
       "np.float64(1.5032147244080551)"
      ]
     },
     "execution_count": 6,
     "metadata": {},
     "output_type": "execute_result"
    }
   ],
   "source": [
    " sum([np.exp((x_2 - max(A))) for x_2 in A])"
   ]
  },
  {
   "cell_type": "code",
   "execution_count": 7,
   "id": "fa15b78a-4a15-4da4-ab88-a38e03f4183a",
   "metadata": {},
   "outputs": [
    {
     "data": {
      "text/plain": [
       "[np.float64(0.1353352832366127),\n",
       " np.float64(0.36787944117144233),\n",
       " np.float64(1.0)]"
      ]
     },
     "execution_count": 7,
     "metadata": {},
     "output_type": "execute_result"
    }
   ],
   "source": [
    "[np.exp((x_2 - max(A))) for x_2 in A]"
   ]
  },
  {
   "cell_type": "code",
   "execution_count": 20,
   "id": "234c62f3-3ef1-441c-968a-54f98f7e4830",
   "metadata": {},
   "outputs": [
    {
     "data": {
      "text/plain": [
       "array([-2.4076, -1.4076, -0.4076])"
      ]
     },
     "execution_count": 20,
     "metadata": {},
     "output_type": "execute_result"
    }
   ],
   "source": [
    "A = np.array([1, 2, 3])\n",
    "log_softmax(A)"
   ]
  },
  {
   "cell_type": "code",
   "execution_count": null,
   "id": "f101d5c4-7afa-49eb-8f5d-48c88f3c40d2",
   "metadata": {},
   "outputs": [],
   "source": []
  }
 ],
 "metadata": {
  "kernelspec": {
   "display_name": "myenv",
   "language": "python",
   "name": "myenv"
  },
  "language_info": {
   "codemirror_mode": {
    "name": "ipython",
    "version": 3
   },
   "file_extension": ".py",
   "mimetype": "text/x-python",
   "name": "python",
   "nbconvert_exporter": "python",
   "pygments_lexer": "ipython3",
   "version": "3.9.6"
  }
 },
 "nbformat": 4,
 "nbformat_minor": 5
}
