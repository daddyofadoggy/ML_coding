{
 "cells": [
  {
   "cell_type": "code",
   "execution_count": 1,
   "id": "8ff97d84-5f42-40a9-a6f2-5e0d84eb6f94",
   "metadata": {},
   "outputs": [],
   "source": [
    "import numpy as np"
   ]
  },
  {
   "cell_type": "code",
   "execution_count": 2,
   "id": "f8753cdf-b4fe-4da6-89d0-6e014520347f",
   "metadata": {},
   "outputs": [],
   "source": [
    "def Relu(x):\n",
    "\treturn [ x1 if x1>=0 else 0 for x1 in x]"
   ]
  },
  {
   "cell_type": "code",
   "execution_count": 3,
   "id": "03b626a5-1dbb-4a84-92ec-8da0e7ab917c",
   "metadata": {},
   "outputs": [],
   "source": [
    "def residual_block(x: np.ndarray, w1: np.ndarray, w2: np.ndarray) -> np.ndarray:\n",
    "\t# Your code here\n",
    "\t#pass\n",
    "\tf = x @ w1\n",
    "\tf = Relu(f)\n",
    "\tf = f @ w2\n",
    "\tf = f + x\n",
    "    f = Relu(f)\n",
    "\treturn f"
   ]
  },
  {
   "cell_type": "code",
   "execution_count": 4,
   "id": "d0ea3a15-a98d-40bd-926b-f72209d1d82d",
   "metadata": {},
   "outputs": [],
   "source": [
    "x = np.array([1.0, 2.0])\n",
    "w1 = np.array([[1.0, 0.0], [0.0, 1.0]])\n",
    "w2 = np.array([[0.5, 0.0], [0.0, 0.5]])"
   ]
  },
  {
   "cell_type": "code",
   "execution_count": 5,
   "id": "12003d79-92d9-47a9-bfef-f57d8f6ccd32",
   "metadata": {},
   "outputs": [
    {
     "data": {
      "text/plain": [
       "array([1.5, 3. ])"
      ]
     },
     "execution_count": 5,
     "metadata": {},
     "output_type": "execute_result"
    }
   ],
   "source": [
    "residual_block(x, w1, w2)"
   ]
  },
  {
   "cell_type": "code",
   "execution_count": null,
   "id": "f90ec321-84a9-4976-b329-fdd5a8bbb7a5",
   "metadata": {},
   "outputs": [],
   "source": []
  }
 ],
 "metadata": {
  "kernelspec": {
   "display_name": "myenv",
   "language": "python",
   "name": "myenv"
  },
  "language_info": {
   "codemirror_mode": {
    "name": "ipython",
    "version": 3
   },
   "file_extension": ".py",
   "mimetype": "text/x-python",
   "name": "python",
   "nbconvert_exporter": "python",
   "pygments_lexer": "ipython3",
   "version": "3.9.6"
  }
 },
 "nbformat": 4,
 "nbformat_minor": 5
}
