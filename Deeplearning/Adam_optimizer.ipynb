{
 "cells": [
  {
   "cell_type": "markdown",
   "id": "21c0cdb1-d335-4459-9e32-61bf18ceaae1",
   "metadata": {},
   "source": [
    "Implement the Adam (Adaptive Moment Estimation) optimization algorithm in Python. Adam is an optimization algorithm that adapts the learning rate for each parameter. Your task is to write a function adam_optimizer that updates the parameters of a given function using the Adam algorithm.\n",
    "\n",
    "The function should take the following parameters:\n",
    "\n",
    "- `f`: The objective function to be optimized\n",
    "- `grad`: A function that computes the gradient of f\n",
    "- `x0`: Initial parameter values\n",
    "- `learning_rate`: The step size (default: 0.001)\n",
    "- `beta1`: Exponential decay rate for the first moment estimates (default: 0.9)\n",
    "- `beta2`: Exponential decay rate for the second moment estimates (default: 0.999)\n",
    "- `epsilon`: A small constant for numerical stability (default: 1e-8)\n",
    "- `num_iterations`: Number of iterations to run the optimizer (default: 1000)"
   ]
  },
  {
   "cell_type": "markdown",
   "id": "5b40104e-e9c7-4442-8020-835c6443e421",
   "metadata": {},
   "source": [
    "# for different types of optimizers (pros n cons) see [this](https://chatgpt.com/c/6849d736-6d68-8006-966c-3160074b2629)"
   ]
  },
  {
   "cell_type": "code",
   "execution_count": 2,
   "id": "c0bca4ee-1d14-403a-ac52-382dc104c6bb",
   "metadata": {},
   "outputs": [],
   "source": [
    "import numpy as np"
   ]
  },
  {
   "cell_type": "code",
   "execution_count": 22,
   "id": "05d1cad8-d8a3-439a-966b-494cebb37040",
   "metadata": {},
   "outputs": [],
   "source": [
    "def adam_optimizer(f, grad, x0, learning_rate=0.001, beta1=0.9, beta2=0.999, epsilon=1e-8, num_iterations=10):\n",
    "    x = x0\n",
    "    m = np.zeros_like(x)\n",
    "    v = np.zeros_like(x)\n",
    "    \n",
    "    for t in range(1, num_iterations+1):\n",
    "        g = grad(x)\n",
    "        \n",
    "        # Update biased first moment estimate\n",
    "        m = beta1 * m + (1 - beta1) * g\n",
    "\n",
    "        # Update biased second raw moment estimate\n",
    "        v = beta2 * v + (1 - beta2) * (g**2)\n",
    "\n",
    "        # Compute bias-corrected first moment estimate\n",
    "        m_hat = m/(1 - beta1**t )\n",
    "\n",
    "        # Compute bias-corrected second moment estimate\n",
    "        v_hat = v/(1 - beta2**t )\n",
    "        \n",
    "        # Update parameters\n",
    "        x = x - learning_rate * m_hat/(np.sqrt(v_hat) + epsilon)\n",
    "    return x"
   ]
  },
  {
   "cell_type": "code",
   "execution_count": 23,
   "id": "1656067e-3a65-4190-a534-e87aa24390ad",
   "metadata": {},
   "outputs": [],
   "source": [
    "def objective_function(x):\n",
    "    return x[0]**2 + x[1]**2\n",
    "\n",
    "def gradient(x):\n",
    "    return np.array([2*x[0], 2*x[1]])"
   ]
  },
  {
   "cell_type": "code",
   "execution_count": 24,
   "id": "828e282a-9d3f-4f74-9f72-4a21d050eedc",
   "metadata": {},
   "outputs": [],
   "source": [
    "x0 = np.array([1.0, 1.0])"
   ]
  },
  {
   "cell_type": "code",
   "execution_count": 25,
   "id": "1de341a4-ca0a-40cf-b12e-9a3ee47275fd",
   "metadata": {},
   "outputs": [
    {
     "name": "stdout",
     "output_type": "stream",
     "text": [
      "Optimized parameters: [0.99000325 0.99000325]\n"
     ]
    }
   ],
   "source": [
    "x_opt = adam_optimizer(objective_function, gradient, x0)\n",
    "print(\"Optimized parameters:\", x_opt)"
   ]
  },
  {
   "cell_type": "code",
   "execution_count": 26,
   "id": "f22fe90d-2179-4b88-baff-691446b203e2",
   "metadata": {},
   "outputs": [
    {
     "data": {
      "text/plain": [
       "array([1., 1.])"
      ]
     },
     "execution_count": 26,
     "metadata": {},
     "output_type": "execute_result"
    }
   ],
   "source": [
    "x = np.array(x0, dtype=np.float64)\n",
    "x"
   ]
  },
  {
   "cell_type": "code",
   "execution_count": 20,
   "id": "a29ce636-2c92-440f-bf11-f10d178247e3",
   "metadata": {},
   "outputs": [],
   "source": [
    "m = np.zeros_like(x)\n",
    "v = np.zeros_like(x)"
   ]
  },
  {
   "cell_type": "code",
   "execution_count": 21,
   "id": "86f7d113-496d-4b01-8eb7-22c5c548f5ee",
   "metadata": {},
   "outputs": [
    {
     "data": {
      "text/plain": [
       "array([0., 0.])"
      ]
     },
     "execution_count": 21,
     "metadata": {},
     "output_type": "execute_result"
    }
   ],
   "source": [
    "m"
   ]
  },
  {
   "cell_type": "code",
   "execution_count": null,
   "id": "fa43a6c7-9a79-4330-8789-6cb97b2a6d57",
   "metadata": {},
   "outputs": [],
   "source": []
  }
 ],
 "metadata": {
  "kernelspec": {
   "display_name": "myenv",
   "language": "python",
   "name": "myenv"
  },
  "language_info": {
   "codemirror_mode": {
    "name": "ipython",
    "version": 3
   },
   "file_extension": ".py",
   "mimetype": "text/x-python",
   "name": "python",
   "nbconvert_exporter": "python",
   "pygments_lexer": "ipython3",
   "version": "3.9.6"
  }
 },
 "nbformat": 4,
 "nbformat_minor": 5
}
