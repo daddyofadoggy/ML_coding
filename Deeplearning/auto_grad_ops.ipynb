{
 "cells": [
  {
   "cell_type": "code",
   "execution_count": 1,
   "id": "fa6997f3-a891-4d45-84cc-48ef4b3424b0",
   "metadata": {},
   "outputs": [],
   "source": [
    "class Value:\n",
    "\tdef __init__(self, data, _children=(), _op=''):\n",
    "\t\tself.data = data\n",
    "\t\tself.grad = 0\n",
    "\t\tself._backward = lambda: None\n",
    "\t\tself._prev = set(_children)\n",
    "\t\tself._op = _op\n",
    "\tdef __repr__(self):\n",
    "\t\treturn f\"Value(data={self.data}, grad={self.grad})\"\n",
    "\n",
    "\tdef __add__(self, other):\n",
    "\t\t# Implement addition here\n",
    "\t\tother = other if isinstance(other, Value) else Value(other)\n",
    "\t\tout = Value(self.data + other.data, (self, other), '+')\n",
    "\n",
    "\t\tdef _backward():\n",
    "\t\t\tself.grad += out.grad\n",
    "\t\t\tother.grad += out.grad\n",
    "\n",
    "\t\tout._backward = _backward\n",
    "\t\treturn out\n",
    "\n",
    "\n",
    "\tdef __mul__(self, other):\n",
    "\t\t# Implement multiplication here\n",
    "\t\tother = other if isinstance(other, Value) else Value(other)\n",
    "\t\tout = Value(self.data * other.data, (self, other), '*')\n",
    "\n",
    "\t\tdef _backward():\n",
    "\t\t\tself.grad += other.data * out.grad\n",
    "\t\t\tother.grad += self.data * out.grad\n",
    "\t\tout. _backward = _backward\n",
    "\n",
    "\t\treturn out\n",
    "\n",
    "\n",
    "\tdef relu(self):\n",
    "\t\t# Implement ReLU here\n",
    "\t\tout = Value(0 if self.data<0 else self.data, (self,), 'Relu')\n",
    "\n",
    "\t\tdef _backward():\n",
    "\t\t\tself.grad += (self.data>0) * out.grad\n",
    "\t\tout._backward = _backward\n",
    "\n",
    "\t\treturn out\n",
    "\n",
    "\n",
    "\n",
    "\tdef backward(self):\n",
    "\t\t# Implement backward pass here\n",
    "\t\ttopo = []\n",
    "\t\tvisited = set()\n",
    "\n",
    "\t\tdef build_topo(v):\n",
    "\t\t\tif v not in visited:\n",
    "\t\t\t\tvisited.add(v)\n",
    "\t\t\t\tfor child in v._prev:\n",
    "\t\t\t\t\tbuild_topo(child)\n",
    "\t\t\t\ttopo.append(v)\n",
    "\t\tbuild_topo(self)\n",
    "\n",
    "\t\tself.grad =1 \n",
    "\t\tfor v in reversed(topo):\n",
    "\t\t\tv._backward()"
   ]
  },
  {
   "cell_type": "code",
   "execution_count": 2,
   "id": "3d2500db-5063-4772-98f9-e3ae4d8f0b14",
   "metadata": {},
   "outputs": [
    {
     "name": "stdout",
     "output_type": "stream",
     "text": [
      "Value(data=2, grad=0) Value(data=-3, grad=0) Value(data=10, grad=0) Value(data=-28, grad=0) Value(data=0, grad=1)\n"
     ]
    }
   ],
   "source": [
    "a = Value(2)\n",
    "b = Value(-3)\n",
    "c = Value(10)\n",
    "d = a + b * c\n",
    "e = d.relu()\n",
    "e.backward()\n",
    "print(a, b, c, d, e)"
   ]
  },
  {
   "cell_type": "code",
   "execution_count": null,
   "id": "c2b6f106-1b41-4c2b-aecc-2f15454c499a",
   "metadata": {},
   "outputs": [],
   "source": []
  }
 ],
 "metadata": {
  "kernelspec": {
   "display_name": "myenv",
   "language": "python",
   "name": "myenv"
  },
  "language_info": {
   "codemirror_mode": {
    "name": "ipython",
    "version": 3
   },
   "file_extension": ".py",
   "mimetype": "text/x-python",
   "name": "python",
   "nbconvert_exporter": "python",
   "pygments_lexer": "ipython3",
   "version": "3.9.6"
  }
 },
 "nbformat": 4,
 "nbformat_minor": 5
}
