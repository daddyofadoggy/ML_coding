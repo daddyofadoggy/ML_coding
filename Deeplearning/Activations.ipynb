{
 "cells": [
  {
   "cell_type": "markdown",
   "id": "3301206a-8d98-4f28-a13a-cc0be60e00bb",
   "metadata": {},
   "source": [
    "## Activation functions ## "
   ]
  },
  {
   "cell_type": "code",
   "execution_count": 12,
   "id": "433ac11c-ff58-4341-900b-169fd7b86de2",
   "metadata": {},
   "outputs": [],
   "source": [
    "import math"
   ]
  },
  {
   "cell_type": "code",
   "execution_count": 13,
   "id": "26961492-091e-4fb4-b3ab-a6464d04d63a",
   "metadata": {},
   "outputs": [],
   "source": [
    "def sigmoid(z: float) -> float:\n",
    "\t#Your code here\n",
    "    result = 1/(1+math.exp(-z))\n",
    "    return result"
   ]
  },
  {
   "cell_type": "code",
   "execution_count": 14,
   "id": "ed6a41f9-4be6-4f6b-bd6f-85a0ce31003f",
   "metadata": {},
   "outputs": [],
   "source": [
    "def softmax(scores: list[float]) -> list[float]:\n",
    "\t# Your code here\n",
    "    exp_scores = [math.exp(score) for score in scores]\n",
    "    sum_exp = sum(exp_scores)\n",
    "    probabilities = [round(score / sum_exp, 4) for score in exp_scores]\n",
    "    return probabilities"
   ]
  },
  {
   "cell_type": "code",
   "execution_count": 15,
   "id": "4e4a3d3f-faa9-4019-b6dc-3630484af3be",
   "metadata": {},
   "outputs": [],
   "source": [
    "def relu(scores: list[float]) -> list[float]:\n",
    "    # Implement ReLU here\n",
    "    out = [0 if score<0 else score for score in scores]\n",
    "    return out"
   ]
  },
  {
   "cell_type": "code",
   "execution_count": 16,
   "id": "7c2b6ee8-b917-4a18-813f-c667a9d9f8af",
   "metadata": {},
   "outputs": [],
   "source": [
    "def tanh(x: float) -> float:\n",
    "    t = (math.exp(2*x) - 1)/(math.exp(2*x) + 1)\n",
    "    return round(t,4)"
   ]
  },
  {
   "cell_type": "code",
   "execution_count": 17,
   "id": "af9a7a1f-8c90-4ddc-b21d-f7d4c9f8aca6",
   "metadata": {},
   "outputs": [],
   "source": [
    "scores = [-1, 2, 3]"
   ]
  },
  {
   "cell_type": "code",
   "execution_count": 18,
   "id": "337da849-0232-45eb-b57c-d50a93e16352",
   "metadata": {},
   "outputs": [
    {
     "data": {
      "text/plain": [
       "[0, 2, 3]"
      ]
     },
     "execution_count": 18,
     "metadata": {},
     "output_type": "execute_result"
    }
   ],
   "source": [
    "relu(scores)"
   ]
  },
  {
   "cell_type": "code",
   "execution_count": 19,
   "id": "ffd15896-3b13-4ac2-9e5c-c7f289cd0c42",
   "metadata": {},
   "outputs": [
    {
     "data": {
      "text/plain": [
       "-0.7616"
      ]
     },
     "execution_count": 19,
     "metadata": {},
     "output_type": "execute_result"
    }
   ],
   "source": [
    "tanh(-1)"
   ]
  },
  {
   "cell_type": "code",
   "execution_count": null,
   "id": "dfbf4005-428d-4aa7-94d7-43bbc65aed10",
   "metadata": {},
   "outputs": [],
   "source": []
  }
 ],
 "metadata": {
  "kernelspec": {
   "display_name": "myenv",
   "language": "python",
   "name": "myenv"
  },
  "language_info": {
   "codemirror_mode": {
    "name": "ipython",
    "version": 3
   },
   "file_extension": ".py",
   "mimetype": "text/x-python",
   "name": "python",
   "nbconvert_exporter": "python",
   "pygments_lexer": "ipython3",
   "version": "3.9.6"
  }
 },
 "nbformat": 4,
 "nbformat_minor": 5
}
