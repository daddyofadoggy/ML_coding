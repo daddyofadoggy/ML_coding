{
 "cells": [
  {
   "cell_type": "code",
   "execution_count": 68,
   "id": "cf7cebe3-1a53-4544-afbf-ce940eac6b4c",
   "metadata": {},
   "outputs": [],
   "source": [
    "import numpy as np"
   ]
  },
  {
   "cell_type": "code",
   "execution_count": 69,
   "id": "eba3e1f1-96d3-4ac5-b886-fa4917bf8d42",
   "metadata": {},
   "outputs": [],
   "source": [
    "def compute_qkv(X: np.ndarray, W_q: np.ndarray, W_k: np.ndarray, W_v: np.ndarray):\n",
    "\t\"\"\"\n",
    "\tCompute Query (Q), Key (K), and Value (V) matrices.\n",
    "\t\"\"\"\n",
    "\treturn np.dot(X, W_q), np.dot(X, W_k), np.dot(X, W_v)"
   ]
  },
  {
   "cell_type": "code",
   "execution_count": 84,
   "id": "cf0d1356-9732-4c6b-ad30-e38a771ef170",
   "metadata": {},
   "outputs": [],
   "source": [
    "def masked_attention(Q: np.ndarray, K: np.ndarray, V: np.ndarray, mask: np.ndarray) -> np.ndarray:\n",
    "    \"\"\"\n",
    "\tCompute masked self-attention.\n",
    "\t\"\"\"\n",
    "    def softmax(x, axis = -1):\n",
    "        x = x - np.max(x, axis = axis, keepdims = True)\n",
    "        return np.exp(x) / np.sum(np.exp(x), axis = axis, keepdims =True)\n",
    "    #score = Q @ K.T + mask\n",
    "    score = Q @ K.T * K.shape[-1]**(-0.5) + mask\n",
    "    maskedattention = softmax(score) @ V\n",
    "    return maskedattention"
   ]
  },
  {
   "cell_type": "code",
   "execution_count": 85,
   "id": "ecb110e4-3065-474e-8593-cb7fe089cc06",
   "metadata": {},
   "outputs": [
    {
     "data": {
      "text/plain": [
       "array([[ 0,  1,  2,  3,  4,  5,  6,  7],\n",
       "       [ 8,  9, 10, 11, 12, 13, 14, 15],\n",
       "       [16, 17, 18, 19, 20, 21, 22, 23],\n",
       "       [24, 25, 26, 27, 28, 29, 30, 31],\n",
       "       [32, 33, 34, 35, 36, 37, 38, 39],\n",
       "       [40, 41, 42, 43, 44, 45, 46, 47]])"
      ]
     },
     "execution_count": 85,
     "metadata": {},
     "output_type": "execute_result"
    }
   ],
   "source": [
    "np.random.seed(42)\n",
    "X = np.arange(48).reshape(6,8)\n",
    "X"
   ]
  },
  {
   "cell_type": "code",
   "execution_count": 86,
   "id": "d08b5ae2-93bd-43e1-8ea0-7d1bf0517a80",
   "metadata": {},
   "outputs": [
    {
     "data": {
      "text/plain": [
       "array([[27, 40, 26, 43, 24, 37, 12, 19],\n",
       "       [ 4, 25,  8,  3,  6, 39, 33, 13],\n",
       "       [17, 45, 15,  9, 16, 29, 32, 46],\n",
       "       [ 0, 31, 30,  5, 11, 34,  1, 44],\n",
       "       [21,  2, 36, 35, 23, 41, 10, 22],\n",
       "       [18, 47, 20,  7, 42, 14, 28, 38]])"
      ]
     },
     "execution_count": 86,
     "metadata": {},
     "output_type": "execute_result"
    }
   ],
   "source": [
    "X = np.random.permutation(X.flatten()).reshape(6, 8)\n",
    "X"
   ]
  },
  {
   "cell_type": "code",
   "execution_count": 87,
   "id": "4cc147a1-24aa-4c93-a006-242f86f92590",
   "metadata": {},
   "outputs": [
    {
     "data": {
      "text/plain": [
       "array([[  0., -inf, -inf, -inf, -inf, -inf],\n",
       "       [  0.,   0., -inf, -inf, -inf, -inf],\n",
       "       [  0.,   0.,   0., -inf, -inf, -inf],\n",
       "       [  0.,   0.,   0.,   0., -inf, -inf],\n",
       "       [  0.,   0.,   0.,   0.,   0., -inf],\n",
       "       [  0.,   0.,   0.,   0.,   0.,   0.]])"
      ]
     },
     "execution_count": 87,
     "metadata": {},
     "output_type": "execute_result"
    }
   ],
   "source": [
    "mask = np.triu(np.ones((6, 6))*(-np.inf), k=1)\n",
    "mask"
   ]
  },
  {
   "cell_type": "code",
   "execution_count": 88,
   "id": "f3add75e-cef7-4c9c-8770-3d4c99013054",
   "metadata": {},
   "outputs": [],
   "source": [
    "W_q = np.random.randint(0,4, size=(8,8))\n",
    "W_k = np.random.randint(0,5, size=(8,8))\n",
    "W_v = np.random.randint(0,6, size=(8,8))"
   ]
  },
  {
   "cell_type": "code",
   "execution_count": 89,
   "id": "3a90f19b-6218-41b5-a705-7b4805f61d5e",
   "metadata": {},
   "outputs": [
    {
     "data": {
      "text/plain": [
       "(8, 8)"
      ]
     },
     "execution_count": 89,
     "metadata": {},
     "output_type": "execute_result"
    }
   ],
   "source": [
    "W_q.shape"
   ]
  },
  {
   "cell_type": "code",
   "execution_count": 90,
   "id": "d20dacbb-68b2-49b1-9662-6f3e8ce34a81",
   "metadata": {},
   "outputs": [
    {
     "data": {
      "text/plain": [
       "array([[0, 3, 1, 1, 1, 0, 1, 0],\n",
       "       [1, 3, 3, 2, 3, 2, 3, 0],\n",
       "       [3, 2, 2, 1, 0, 3, 1, 3],\n",
       "       [3, 1, 1, 1, 1, 1, 3, 1],\n",
       "       [0, 2, 1, 1, 3, 1, 1, 1],\n",
       "       [3, 1, 2, 3, 2, 3, 1, 2],\n",
       "       [3, 0, 1, 3, 0, 3, 0, 1],\n",
       "       [2, 0, 3, 1, 0, 3, 3, 3]])"
      ]
     },
     "execution_count": 90,
     "metadata": {},
     "output_type": "execute_result"
    }
   ],
   "source": [
    "W_q"
   ]
  },
  {
   "cell_type": "code",
   "execution_count": 91,
   "id": "a3e606db-079e-45ad-9097-93f88db7be9b",
   "metadata": {},
   "outputs": [],
   "source": [
    "Q, K, V = compute_qkv(X, W_q, W_k, W_v)"
   ]
  },
  {
   "cell_type": "code",
   "execution_count": 92,
   "id": "3ead3fbc-55a2-4a8d-88ce-82ede497a98d",
   "metadata": {},
   "outputs": [
    {
     "data": {
      "text/plain": [
       "((6, 8), (6, 8), (6, 8))"
      ]
     },
     "execution_count": 92,
     "metadata": {},
     "output_type": "execute_result"
    }
   ],
   "source": [
    "Q.shape, K.shape, V.shape"
   ]
  },
  {
   "cell_type": "code",
   "execution_count": 93,
   "id": "a3ebde6f-2421-4bd7-9bf7-9e77eaa262d1",
   "metadata": {},
   "outputs": [
    {
     "data": {
      "text/plain": [
       "array([[432, 381, 409, 366, 336, 429, 420, 288],\n",
       "       [300, 157, 254, 300, 178, 338, 180, 183],\n",
       "       [392, 286, 435, 376, 267, 481, 377, 298],\n",
       "       [329, 214, 370, 257, 199, 405, 315, 307],\n",
       "       [412, 263, 315, 294, 213, 389, 298, 324],\n",
       "       [330, 340, 418, 345, 320, 443, 370, 279]])"
      ]
     },
     "execution_count": 93,
     "metadata": {},
     "output_type": "execute_result"
    }
   ],
   "source": [
    "Q"
   ]
  },
  {
   "cell_type": "code",
   "execution_count": 94,
   "id": "cf2902b2-e154-47fe-8b04-c19228f3fd76",
   "metadata": {},
   "outputs": [
    {
     "data": {
      "text/plain": [
       "array([[570, 504, 491, 531, 304, 449, 307, 408],\n",
       "       [357, 344, 315, 311, 185, 369, 285, 292],\n",
       "       [622, 434, 417, 529, 265, 539, 363, 428],\n",
       "       [427, 284, 284, 307, 176, 376, 360, 349],\n",
       "       [473, 411, 400, 491, 235, 371, 358, 342],\n",
       "       [701, 418, 350, 553, 294, 498, 286, 382]])"
      ]
     },
     "execution_count": 94,
     "metadata": {},
     "output_type": "execute_result"
    }
   ],
   "source": [
    "K"
   ]
  },
  {
   "cell_type": "code",
   "execution_count": 95,
   "id": "63f95a20-e040-4ee4-9659-70402bf982e4",
   "metadata": {},
   "outputs": [
    {
     "data": {
      "text/plain": [
       "array([[547, 490, 399, 495, 485, 439, 645, 393],\n",
       "       [203, 293, 199, 399, 220, 163, 279, 174],\n",
       "       [471, 472, 429, 538, 377, 450, 531, 362],\n",
       "       [398, 388, 244, 338, 224, 385, 413, 295],\n",
       "       [541, 331, 366, 492, 475, 367, 423, 422],\n",
       "       [500, 463, 514, 447, 403, 500, 556, 496]])"
      ]
     },
     "execution_count": 95,
     "metadata": {},
     "output_type": "execute_result"
    }
   ],
   "source": [
    "V"
   ]
  },
  {
   "cell_type": "code",
   "execution_count": 96,
   "id": "92a3c0ee-6c19-4709-8445-efb6fdae9248",
   "metadata": {},
   "outputs": [
    {
     "data": {
      "text/plain": [
       "array([[547., 490., 399., 495., 485., 439., 645., 393.],\n",
       "       [547., 490., 399., 495., 485., 439., 645., 393.],\n",
       "       [471., 472., 429., 538., 377., 450., 531., 362.],\n",
       "       [471., 472., 429., 538., 377., 450., 531., 362.],\n",
       "       [471., 472., 429., 538., 377., 450., 531., 362.],\n",
       "       [471., 472., 429., 538., 377., 450., 531., 362.]])"
      ]
     },
     "execution_count": 96,
     "metadata": {},
     "output_type": "execute_result"
    }
   ],
   "source": [
    "masked_attentions = masked_attention(Q, K, V, mask)\n",
    "masked_attentions"
   ]
  },
  {
   "cell_type": "code",
   "execution_count": null,
   "id": "a40530d3-75c7-4c29-b50b-c6b9dc098601",
   "metadata": {},
   "outputs": [],
   "source": []
  }
 ],
 "metadata": {
  "kernelspec": {
   "display_name": "myenv",
   "language": "python",
   "name": "myenv"
  },
  "language_info": {
   "codemirror_mode": {
    "name": "ipython",
    "version": 3
   },
   "file_extension": ".py",
   "mimetype": "text/x-python",
   "name": "python",
   "nbconvert_exporter": "python",
   "pygments_lexer": "ipython3",
   "version": "3.9.6"
  }
 },
 "nbformat": 4,
 "nbformat_minor": 5
}
