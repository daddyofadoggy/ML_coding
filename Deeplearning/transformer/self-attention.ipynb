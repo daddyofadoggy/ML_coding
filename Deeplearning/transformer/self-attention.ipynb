{
 "cells": [
  {
   "cell_type": "code",
   "execution_count": 144,
   "id": "ad02a444-2113-44e3-bc18-c4a728861053",
   "metadata": {},
   "outputs": [],
   "source": [
    "import numpy as np"
   ]
  },
  {
   "cell_type": "markdown",
   "id": "4cd95405-200c-45e1-bdd2-52008d17d7f4",
   "metadata": {},
   "source": [
    "## below both implementations of softmax is right"
   ]
  },
  {
   "cell_type": "code",
   "execution_count": 169,
   "id": "dfe5d0fd-acfc-4ea1-b01a-52e527c72c92",
   "metadata": {},
   "outputs": [],
   "source": [
    "def softmax(x, axis = -1):\n",
    "    x = x - np.max(x, axis = axis, keepdims = True)\n",
    "    return np.exp(x) / np.sum(np.exp(x), axis = axis, keepdims =True)"
   ]
  },
  {
   "cell_type": "code",
   "execution_count": 170,
   "id": "12f61d40-0b73-4197-bc36-4a15cdc70e8f",
   "metadata": {},
   "outputs": [],
   "source": [
    "def softmax(x, axis=-1):\n",
    "    exp_x = np.exp(x - np.max(x, axis=axis, keepdims=True))\n",
    "    return exp_x / np.sum(exp_x, axis=axis, keepdims=True)"
   ]
  },
  {
   "cell_type": "code",
   "execution_count": null,
   "id": "b52098d5-6099-407d-89e5-f3ac2c37f159",
   "metadata": {},
   "outputs": [],
   "source": []
  },
  {
   "cell_type": "code",
   "execution_count": 173,
   "id": "b5f1c885-438d-4f76-a3e2-58c439ad0218",
   "metadata": {},
   "outputs": [],
   "source": [
    "def compute_qkv(X, W_q, W_k, W_v):\n",
    "    q = X @ W_q\n",
    "    k = X @ W_k\n",
    "    v = X @ W_v\n",
    "    return q, k, v"
   ]
  },
  {
   "cell_type": "code",
   "execution_count": 174,
   "id": "b44b3da0-174b-4d7b-893f-5d992c2499d6",
   "metadata": {},
   "outputs": [],
   "source": [
    "\n",
    "def self_attention(Q, K, V):\n",
    "    def softmax(x, axis = -1):\n",
    "        x = x - np.max(x, axis = axis, keepdims = True)\n",
    "        return np.exp(x) / np.sum(np.exp(x), axis = axis, keepdims =True)\n",
    "    attention = softmax(Q @ K.T * K.shape[-1]**(-0.5)) @ V\n",
    "    return np.round(attention,6).tolist()"
   ]
  },
  {
   "cell_type": "code",
   "execution_count": 175,
   "id": "8a088c4a-4c66-4a34-9f83-94cffff41662",
   "metadata": {},
   "outputs": [],
   "source": [
    "X = np.array([[1, 0], [0, 1]])\n",
    "W_q = np.array([[1, 0], [0, 1]])\n",
    "W_k = np.array([[1, 0], [0, 1]])\n",
    "W_v = np.array([[1, 2], [3, 4]])"
   ]
  },
  {
   "cell_type": "code",
   "execution_count": 176,
   "id": "4778893b-190c-4459-bd6e-c82faaaf0291",
   "metadata": {},
   "outputs": [],
   "source": [
    "Q, K, V = compute_qkv(X, W_q, W_k, W_v)"
   ]
  },
  {
   "cell_type": "code",
   "execution_count": 177,
   "id": "613d0d11-e7a0-46a3-8d28-1e87dc2453f7",
   "metadata": {},
   "outputs": [
    {
     "data": {
      "text/plain": [
       "array([[1, 0],\n",
       "       [0, 1]])"
      ]
     },
     "execution_count": 177,
     "metadata": {},
     "output_type": "execute_result"
    }
   ],
   "source": [
    "Q"
   ]
  },
  {
   "cell_type": "code",
   "execution_count": 178,
   "id": "44ceeef5-9fd5-4582-b8c0-1a6836e55a9e",
   "metadata": {},
   "outputs": [
    {
     "data": {
      "text/plain": [
       "array([[1, 0],\n",
       "       [0, 1]])"
      ]
     },
     "execution_count": 178,
     "metadata": {},
     "output_type": "execute_result"
    }
   ],
   "source": [
    "K"
   ]
  },
  {
   "cell_type": "code",
   "execution_count": 179,
   "id": "1f05e78b-a1f8-4c50-b9fc-299f94bda666",
   "metadata": {},
   "outputs": [
    {
     "data": {
      "text/plain": [
       "array([[1, 2],\n",
       "       [3, 4]])"
      ]
     },
     "execution_count": 179,
     "metadata": {},
     "output_type": "execute_result"
    }
   ],
   "source": [
    "V"
   ]
  },
  {
   "cell_type": "code",
   "execution_count": 180,
   "id": "e81478a1-a03b-49bd-8598-82677614a85b",
   "metadata": {},
   "outputs": [],
   "source": [
    "output = self_attention(Q, K, V)"
   ]
  },
  {
   "cell_type": "code",
   "execution_count": 181,
   "id": "6848b4fe-865a-435b-8474-8a1e5e3a4234",
   "metadata": {},
   "outputs": [
    {
     "data": {
      "text/plain": [
       "[[1.660477, 2.660477], [2.339523, 3.339523]]"
      ]
     },
     "execution_count": 181,
     "metadata": {},
     "output_type": "execute_result"
    }
   ],
   "source": [
    "output"
   ]
  },
  {
   "cell_type": "code",
   "execution_count": 182,
   "id": "dc44547a-3142-4cc1-bc50-420d3b5a9140",
   "metadata": {},
   "outputs": [],
   "source": [
    "import numpy as np\n",
    "X = np.array([[1, 1], [1, 0]]) \n",
    "W_q = np.array([[1, 0], [0, 1]])\n",
    "W_k = np.array([[1, 0], [0, 1]]) \n",
    "W_v = np.array([[1, 2], [3, 4]]) \n",
    "Q, K, V = compute_qkv(X, W_q, W_k, W_v) \n",
    "output = self_attention(Q, K, V)"
   ]
  },
  {
   "cell_type": "code",
   "execution_count": 183,
   "id": "7f4b1aae-6455-4d0f-9325-e8d7ffb3abe4",
   "metadata": {},
   "outputs": [
    {
     "data": {
      "text/plain": [
       "[[3.009285, 4.679046], [2.5, 4.0]]"
      ]
     },
     "execution_count": 183,
     "metadata": {},
     "output_type": "execute_result"
    }
   ],
   "source": [
    "output"
   ]
  },
  {
   "cell_type": "code",
   "execution_count": 184,
   "id": "eba64617-aab2-4903-8680-056dfcc3b0f9",
   "metadata": {},
   "outputs": [
    {
     "name": "stdout",
     "output_type": "stream",
     "text": [
      "[[8.0, 10.0, 12.0], [8.619874, 10.619874, 12.619874], [7.380126, 9.380126, 11.380126]]\n"
     ]
    }
   ],
   "source": [
    "import numpy as np \n",
    "X = np.array([[1, 0, 1], [0, 1, 1], [1, 1, 0]]) \n",
    "W_q = np.array([[1, 1, 0], [0, 1, 1], [1, 0, 1]]) \n",
    "W_k = np.array([[1, 1, 0], [0, 1, 1], [1, 0, 1]]) \n",
    "W_v = np.array([[1, 2, 3], [4, 5, 6], [7, 8, 9]]) \n",
    "Q, K, V = compute_qkv(X, W_q, W_k, W_v) \n",
    "output = self_attention(Q, K, V) \n",
    "print(output)"
   ]
  },
  {
   "cell_type": "code",
   "execution_count": null,
   "id": "5debd5c3-2071-4f5d-abc0-1b731ae66f39",
   "metadata": {},
   "outputs": [],
   "source": []
  },
  {
   "cell_type": "code",
   "execution_count": null,
   "id": "11f61ce0-8a70-4730-9bf8-3e031a254ac7",
   "metadata": {},
   "outputs": [],
   "source": []
  }
 ],
 "metadata": {
  "kernelspec": {
   "display_name": "myenv",
   "language": "python",
   "name": "myenv"
  },
  "language_info": {
   "codemirror_mode": {
    "name": "ipython",
    "version": 3
   },
   "file_extension": ".py",
   "mimetype": "text/x-python",
   "name": "python",
   "nbconvert_exporter": "python",
   "pygments_lexer": "ipython3",
   "version": "3.9.6"
  }
 },
 "nbformat": 4,
 "nbformat_minor": 5
}
