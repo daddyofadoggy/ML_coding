{
 "cells": [
  {
   "cell_type": "code",
   "execution_count": 4,
   "id": "3c73c303-bb6b-42f6-b36d-5f604f849235",
   "metadata": {},
   "outputs": [],
   "source": [
    "import numpy as np"
   ]
  },
  {
   "cell_type": "code",
   "execution_count": 5,
   "id": "e7b94300-4e37-463d-a9dc-fd02da8be11e",
   "metadata": {},
   "outputs": [],
   "source": [
    "def compute_qkv(X: np.ndarray, W_q: np.ndarray, W_k: np.ndarray, W_v: np.ndarray):\n",
    "\t\"\"\"\n",
    "\tCompute Query (Q), Key (K), and Value (V) matrices.\n",
    "\t\"\"\"\n",
    "    Q = X @ W_q\n",
    "    K = X @ W_k\n",
    "    V = X @ W_v\n",
    "\n",
    "\treturn Q, K, V"
   ]
  },
  {
   "cell_type": "code",
   "execution_count": 17,
   "id": "7c13a6cb-1a10-4479-8e5c-a24f3f63f7f9",
   "metadata": {},
   "outputs": [],
   "source": [
    "def self_attention(Q, K, V):\n",
    "    \"\"\"\n",
    "    Scaled dot-product attention (no batch).\n",
    "    Q, K, V: shape (seq_len, d_head)\n",
    "    Returns: output of shape (seq_len, d_head)\n",
    "    \"\"\"\n",
    "    def softmax(x):\n",
    "        \"\"\"\n",
    "        Stable softmax over the last axis.\n",
    "        \"\"\"\n",
    "        e_x = np.exp(x - np.max(x, axis=-1, keepdims=True))\n",
    "        return e_x / np.sum(e_x, axis=-1, keepdims=True)\n",
    "        \n",
    "    d_k = Q.shape[-1]\n",
    "    scores = Q @ K.T / np.sqrt(d_k)       # (seq_len, seq_len)\n",
    "    weights = softmax(scores)             # (seq_len, seq_len)\n",
    "    output = weights @ V                  # (seq_len, d_head)\n",
    "    return output\n"
   ]
  },
  {
   "cell_type": "code",
   "execution_count": 21,
   "id": "997263c0-dfb0-458d-b6bf-728922c9a03f",
   "metadata": {},
   "outputs": [],
   "source": [
    "def multi_head_attention(Q, K, V, n_heads):\n",
    "    \"\"\"\n",
    "    Multi-head self-attention (no batch).\n",
    "    Q, K, V: shape (seq_len, d_model)\n",
    "    n_heads: number of attention heads\n",
    "    Returns: (seq_len, d_model)\n",
    "    \"\"\"\n",
    "    seq_len, d_model = Q.shape\n",
    "    assert d_model % n_heads == 0, \"d_model must be divisible by n_heads\"\n",
    "    d_head = d_model // n_heads\n",
    "\n",
    "    # Split into head\n",
    "    def split_heads(x):\n",
    "        return x.reshape(seq_len, n_heads, d_head).transpose(1, 0, 2) #  # (n_heads, seq_len, d_head)\n",
    "    \n",
    "    Q_heads = split_heads(Q)\n",
    "    K_heads = split_heads(K)\n",
    "    V_heads = split_heads(V)\n",
    "    \n",
    "    # Compute attention for each head\n",
    "    heads_output = [ self_attention(Q_heads[i], K_heads[i], V_heads[i]) for i in range(n_heads)]\n",
    "\n",
    "    # Concatenate heads\n",
    "    concat = np.concatenate(heads_output, axis=-1)  # (seq_len, d_model)\n",
    "    return concat.tolist()"
   ]
  },
  {
   "cell_type": "code",
   "execution_count": 23,
   "id": "e4356d58-199f-40a4-8f02-31b7d92e3a69",
   "metadata": {},
   "outputs": [],
   "source": [
    "Q = np.array([[1, 0], [0, 1]])\n",
    "K = np.array([[1, 0], [0, 1]])\n",
    "V = np.array([[1, 0], [0, 1]])\n",
    "n_heads = 2"
   ]
  },
  {
   "cell_type": "code",
   "execution_count": 24,
   "id": "6386c72b-cbe7-4a9e-ab9f-f2c26d85a136",
   "metadata": {},
   "outputs": [
    {
     "data": {
      "text/plain": [
       "array([[0.73105858, 0.5       ],\n",
       "       [0.5       , 0.73105858]])"
      ]
     },
     "execution_count": 24,
     "metadata": {},
     "output_type": "execute_result"
    }
   ],
   "source": [
    "multi_head_attention(Q, K, V, n_heads)"
   ]
  },
  {
   "cell_type": "markdown",
   "id": "86bd5df4-6264-4ab6-ac44-9a8903f41f5a",
   "metadata": {},
   "source": [
    "## Test Case 1 ##"
   ]
  },
  {
   "cell_type": "code",
   "execution_count": 25,
   "id": "b330728f-9afc-476d-822f-cb7e60dc89ef",
   "metadata": {},
   "outputs": [
    {
     "data": {
      "text/plain": [
       "array([[ 0,  1,  5, 14],\n",
       "       [13, 11,  8,  9],\n",
       "       [ 2, 15,  4,  7],\n",
       "       [10, 12,  3,  6]])"
      ]
     },
     "execution_count": 25,
     "metadata": {},
     "output_type": "execute_result"
    }
   ],
   "source": [
    "np.random.seed(42)\n",
    "m, n = 4, 4\n",
    "n_heads = 2\n",
    "X = np.arange(m*n).reshape(m,n) \n",
    "X = np.random.permutation(X.flatten()).reshape(m, n)\n",
    "X"
   ]
  },
  {
   "cell_type": "code",
   "execution_count": 26,
   "id": "d7abc2a9-c04c-431f-9823-cee7eec10b11",
   "metadata": {},
   "outputs": [],
   "source": [
    "W_q = np.random.randint(0,4,size=(n,n))\n",
    "W_k = np.random.randint(0,5,size=(n,n)) \n",
    "W_v = np.random.randint(0,6,size=(n,n)) \n",
    "Q, K, V = compute_qkv(X, W_q, W_k, W_v) "
   ]
  },
  {
   "cell_type": "code",
   "execution_count": 27,
   "id": "92b4b6d2-4e17-4a77-a9d1-e0d9d884be6e",
   "metadata": {},
   "outputs": [
    {
     "name": "stdout",
     "output_type": "stream",
     "text": [
      "[[103. 109.  46.  99.]\n",
      " [103. 109.  46.  99.]\n",
      " [103. 109.  46.  99.]\n",
      " [103. 109.  46.  99.]]\n"
     ]
    }
   ],
   "source": [
    "print(multi_head_attention(Q, K, V, n_heads))"
   ]
  },
  {
   "cell_type": "code",
   "execution_count": null,
   "id": "f212983b-e4a6-4aa6-9e9c-ba79762306b6",
   "metadata": {},
   "outputs": [],
   "source": []
  },
  {
   "cell_type": "markdown",
   "id": "17f4d82c-e852-4e06-9f4d-aa9ac45d2b12",
   "metadata": {},
   "source": [
    "## Test case 2 ##"
   ]
  },
  {
   "cell_type": "code",
   "execution_count": 28,
   "id": "41228003-f953-4f2c-9621-9bfeb56a87b1",
   "metadata": {},
   "outputs": [
    {
     "data": {
      "text/plain": [
       "array([[27, 40, 26, 43, 24, 37, 12, 19],\n",
       "       [ 4, 25,  8,  3,  6, 39, 33, 13],\n",
       "       [17, 45, 15,  9, 16, 29, 32, 46],\n",
       "       [ 0, 31, 30,  5, 11, 34,  1, 44],\n",
       "       [21,  2, 36, 35, 23, 41, 10, 22],\n",
       "       [18, 47, 20,  7, 42, 14, 28, 38]])"
      ]
     },
     "execution_count": 28,
     "metadata": {},
     "output_type": "execute_result"
    }
   ],
   "source": [
    "m, n = 6, 8\n",
    "n_heads = 4\n",
    "np.random.seed(42) \n",
    "X = np.arange(m*n).reshape(m,n) \n",
    "X = np.random.permutation(X.flatten()).reshape(m, n)\n",
    "X"
   ]
  },
  {
   "cell_type": "code",
   "execution_count": 29,
   "id": "7108dcd0-672a-4ac9-90bd-9d0a61e1a75c",
   "metadata": {},
   "outputs": [],
   "source": [
    "W_q = np.random.randint(0,4,size=(n,n)) \n",
    "W_k = np.random.randint(0,5,size=(n,n)) \n",
    "W_v = np.random.randint(0,6,size=(n,n))"
   ]
  },
  {
   "cell_type": "code",
   "execution_count": 30,
   "id": "87012949-d035-4928-b582-af3f4ff5c43a",
   "metadata": {},
   "outputs": [],
   "source": [
    "Q, K, V = compute_qkv(X, W_q, W_k, W_v)"
   ]
  },
  {
   "cell_type": "code",
   "execution_count": 31,
   "id": "98956655-ef5d-49ed-933c-0f2a5148cd40",
   "metadata": {},
   "outputs": [
    {
     "data": {
      "text/plain": [
       "(6, 8)"
      ]
     },
     "execution_count": 31,
     "metadata": {},
     "output_type": "execute_result"
    }
   ],
   "source": [
    "Q.shape"
   ]
  },
  {
   "cell_type": "code",
   "execution_count": 35,
   "id": "ede20f16-40fd-483c-bb81-a39b4800fcb7",
   "metadata": {},
   "outputs": [
    {
     "data": {
      "text/plain": [
       "(6, 8)"
      ]
     },
     "execution_count": 35,
     "metadata": {},
     "output_type": "execute_result"
    }
   ],
   "source": [
    "s = self_attention(Q,K,V)\n",
    "s.shape"
   ]
  },
  {
   "cell_type": "code",
   "execution_count": 36,
   "id": "016dfd63-6a52-49f9-bd02-9f61e4bb0d8d",
   "metadata": {},
   "outputs": [
    {
     "data": {
      "text/plain": [
       "array([[471., 472., 429., 538., 377., 450., 531., 362.],\n",
       "       [471., 472., 429., 538., 377., 450., 531., 362.],\n",
       "       [471., 472., 429., 538., 377., 450., 531., 362.],\n",
       "       [471., 472., 429., 538., 377., 450., 531., 362.],\n",
       "       [471., 472., 429., 538., 377., 450., 531., 362.],\n",
       "       [471., 472., 429., 538., 377., 450., 531., 362.]])"
      ]
     },
     "execution_count": 36,
     "metadata": {},
     "output_type": "execute_result"
    }
   ],
   "source": [
    "s"
   ]
  },
  {
   "cell_type": "code",
   "execution_count": 32,
   "id": "82c3f577-e9d9-411a-bd33-1b1640f59aa6",
   "metadata": {},
   "outputs": [],
   "source": [
    "mhead_attns = multi_head_attention(Q, K, V, n_heads)"
   ]
  },
  {
   "cell_type": "code",
   "execution_count": 33,
   "id": "f2a9e05d-bc88-4ec3-a21d-fbecb9a78164",
   "metadata": {},
   "outputs": [
    {
     "data": {
      "text/plain": [
       "(6, 8)"
      ]
     },
     "execution_count": 33,
     "metadata": {},
     "output_type": "execute_result"
    }
   ],
   "source": [
    "mhead_attns.shape"
   ]
  },
  {
   "cell_type": "code",
   "execution_count": 34,
   "id": "593ffc8d-60d1-4752-99d7-37fa36f6d170",
   "metadata": {},
   "outputs": [
    {
     "data": {
      "text/plain": [
       "array([[500., 463., 399., 495., 377., 450., 531., 362.],\n",
       "       [500., 463., 399., 495., 377., 450., 531., 362.],\n",
       "       [500., 463., 399., 495., 377., 450., 531., 362.],\n",
       "       [500., 463., 399., 495., 377., 450., 531., 362.],\n",
       "       [500., 463., 399., 495., 377., 450., 531., 362.],\n",
       "       [500., 463., 399., 495., 377., 450., 531., 362.]])"
      ]
     },
     "execution_count": 34,
     "metadata": {},
     "output_type": "execute_result"
    }
   ],
   "source": [
    "mhead_attns"
   ]
  },
  {
   "cell_type": "code",
   "execution_count": null,
   "id": "a50c3781-f4eb-40ac-93b1-b327ad3da84d",
   "metadata": {},
   "outputs": [],
   "source": []
  },
  {
   "cell_type": "markdown",
   "id": "c3a4bfb8-0784-41af-9d23-8fdc5ed83b4a",
   "metadata": {},
   "source": [
    "## Test Case 3 ## "
   ]
  },
  {
   "cell_type": "code",
   "execution_count": 37,
   "id": "4e49725f-f5f5-47e5-8d70-ad0d2a124aad",
   "metadata": {},
   "outputs": [
    {
     "data": {
      "text/plain": [
       "array([[27, 40, 26, 43, 24, 37, 12, 19],\n",
       "       [ 4, 25,  8,  3,  6, 39, 33, 13],\n",
       "       [17, 45, 15,  9, 16, 29, 32, 46],\n",
       "       [ 0, 31, 30,  5, 11, 34,  1, 44],\n",
       "       [21,  2, 36, 35, 23, 41, 10, 22],\n",
       "       [18, 47, 20,  7, 42, 14, 28, 38]])"
      ]
     },
     "execution_count": 37,
     "metadata": {},
     "output_type": "execute_result"
    }
   ],
   "source": [
    "m, n = 6, 8\n",
    "n_heads = 2\n",
    "np.random.seed(42)\n",
    "X = np.arange(m*n).reshape(m,n) \n",
    "X = np.random.permutation(X.flatten()).reshape(m, n)\n",
    "X"
   ]
  },
  {
   "cell_type": "code",
   "execution_count": 38,
   "id": "6da31606-9f87-4ad5-bd9e-b45e0de17f1f",
   "metadata": {},
   "outputs": [],
   "source": [
    "W_q = np.random.randint(0,4,size=(n,n)) \n",
    "W_k = np.random.randint(0,5,size=(n,n)) \n",
    "W_v = np.random.randint(0,6,size=(n,n)) \n",
    "Q, K, V = compute_qkv(X, W_q, W_k, W_v)"
   ]
  },
  {
   "cell_type": "code",
   "execution_count": 39,
   "id": "748d07a0-b963-45e8-80da-644a3b5d12cf",
   "metadata": {},
   "outputs": [
    {
     "name": "stdout",
     "output_type": "stream",
     "text": [
      "[[547. 490. 399. 495. 377. 450. 531. 362.]\n",
      " [547. 490. 399. 495. 377. 450. 531. 362.]\n",
      " [547. 490. 399. 495. 377. 450. 531. 362.]\n",
      " [547. 490. 399. 495. 377. 450. 531. 362.]\n",
      " [547. 490. 399. 495. 377. 450. 531. 362.]\n",
      " [547. 490. 399. 495. 377. 450. 531. 362.]]\n"
     ]
    }
   ],
   "source": [
    "# test multi-head attention \n",
    "actual_output = multi_head_attention(Q, K, V, n_heads) \n",
    "print(actual_output)"
   ]
  },
  {
   "cell_type": "code",
   "execution_count": null,
   "id": "d06bce9a-d91c-4d92-9cc7-d814948e067c",
   "metadata": {},
   "outputs": [],
   "source": []
  }
 ],
 "metadata": {
  "kernelspec": {
   "display_name": "myenv",
   "language": "python",
   "name": "myenv"
  },
  "language_info": {
   "codemirror_mode": {
    "name": "ipython",
    "version": 3
   },
   "file_extension": ".py",
   "mimetype": "text/x-python",
   "name": "python",
   "nbconvert_exporter": "python",
   "pygments_lexer": "ipython3",
   "version": "3.9.6"
  }
 },
 "nbformat": 4,
 "nbformat_minor": 5
}
