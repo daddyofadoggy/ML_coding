{
 "cells": [
  {
   "cell_type": "markdown",
   "id": "17e5ed83-6921-43f4-bbbd-cda46916e5de",
   "metadata": {},
   "source": [
    "## Implementing a custom dense layer in python ##\n",
    "You are provided with a base Layer class that defines the structure of a neural network layer. Your task is to implement a subclass called Dense, which represents a fully connected neural network layer. The Dense class should extend the Layer class and implement the following methods:\n",
    "\n",
    "**Initialization (__init__):**\n",
    "\n",
    "Define the layer with a specified number of neurons (n_units) and an optional input shape (input_shape).\n",
    "Set up placeholders for the layer's weights (W), biases (w0), and optimizers.\n",
    "\n",
    "**Weight Initialization (initialize):**\n",
    "\n",
    "Initialize the weights W using a uniform distribution with a limit of 1 / sqrt(input_shape[0]), and bias w0 should be set to zero.\n",
    "Initialize optimizers for W and w0.\n",
    "\n",
    "**Parameter Count (parameters):**\n",
    "Return the total number of trainable parameters in the layer, which includes the parameters in W and w0.\n",
    "\n",
    "**Forward Pass (forward_pass):**\n",
    "Compute the output of the layer by performing a dot product between the input X and the weight matrix W, and then adding the bias w0.\n",
    "Backward Pass (backward_pass):\n",
    "\n",
    "Calculate and return the gradient with respect to the input.\n",
    "If the layer is trainable, update the weights and biases using the optimizer's update rule.\n",
    "Output Shape (output_shape):\n",
    "\n",
    "Return the shape of the output produced by the forward pass, which should be (self.n_units,).\n",
    "\n",
    "**Objective:**\n",
    "Extend the Layer class by implementing the Dense class to ensure it functions correctly within a neural network framework.\n",
    "\n",
    "see the detais [here](https://www.deep-ml.com/problems/40)"
   ]
  },
  {
   "cell_type": "markdown",
   "id": "8d168271-b34d-4dd0-a9a8-5983b4281a46",
   "metadata": {},
   "source": [
    "## For exaplanation of backward pass see [this](https://chatgpt.com/c/68462133-5ce0-8006-a585-969e753b6795)"
   ]
  },
  {
   "cell_type": "code",
   "execution_count": 78,
   "id": "f3309f1f-ac21-4d90-812b-938745483ade",
   "metadata": {},
   "outputs": [],
   "source": [
    "import numpy as np\n",
    "import copy\n",
    "import math\n",
    "\n",
    "# DO NOT CHANGE SEED\n",
    "np.random.seed(42)\n",
    "\n",
    "# DO NOT CHANGE LAYER CLASS\n",
    "class Layer(object):\n",
    "\n",
    "\tdef set_input_shape(self, shape):\n",
    "    \n",
    "\t\tself.input_shape = shape\n",
    "\n",
    "\tdef layer_name(self):\n",
    "\t\treturn self.__class__.__name__\n",
    "\n",
    "\tdef parameters(self):\n",
    "\t\treturn 0\n",
    "\n",
    "\tdef forward_pass(self, X, training):\n",
    "\t\traise NotImplementedError()\n",
    "\n",
    "\tdef backward_pass(self, accum_grad):\n",
    "\t\traise NotImplementedError()\n",
    "\n",
    "\tdef output_shape(self):\n",
    "\t\traise NotImplementedError()\n",
    "\n"
   ]
  },
  {
   "cell_type": "code",
   "execution_count": 79,
   "id": "f37f3074-8391-4c36-bf1e-4432773eb931",
   "metadata": {},
   "outputs": [],
   "source": [
    "class Dense(Layer):\n",
    "    def __init__(self, n_units, input_shape=None):\n",
    "        self.n_units = n_units\n",
    "        self.input_shape = input_shape\n",
    "        self.trainable = True\n",
    "        self.W = None\n",
    "        self.w0 = None\n",
    "        self.W_optimizer = None\n",
    "        self.w0_optimizer = None\n",
    "\n",
    "        if input_shape is not None:\n",
    "            self.set_input_shape(input_shape)\n",
    "\n",
    "    def set_input_shape(self, shape):\n",
    "        super().set_input_shape(shape)\n",
    "        self.input_shape = shape\n",
    "\n",
    "    def initialize(self, optimizer=None):\n",
    "        limit = 1.0 / math.sqrt(self.input_shape[0])\n",
    "        self.W = np.random.uniform(-limit, limit, (self.input_shape[0], self.n_units))\n",
    "        self.w0 = np.zeros((1, self.n_units))\n",
    "\n",
    "        # Assign optimizers\n",
    "        self.W_optimizer = copy.deepcopy(optimizer) if optimizer else None\n",
    "        self.w0_optimizer = copy.deepcopy(optimizer) if optimizer else None\n",
    "\n",
    "    def parameters(self):\n",
    "        return np.prod(self.W.shape) + np.prod(self.w0.shape)\n",
    "\n",
    "    def forward_pass(self, X, training=True):\n",
    "        self.input = X\n",
    "        #out = np.dot(X, self.W) + self.w0\n",
    "        #print(f\"forward pass output {out}\")\n",
    "        return np.dot(X, self.W) + self.w0\n",
    "\n",
    "    def backward_pass(self, accum_grad):\n",
    "        grad_input = np.dot(accum_grad, self.W.T)\n",
    "\n",
    "        if self.trainable:\n",
    "            grad_W = np.dot(self.input.T, accum_grad)\n",
    "            grad_w0 = np.sum(accum_grad, axis=0, keepdims=True)\n",
    "\n",
    "            if self.W_optimizer:\n",
    "                self.W = self.W_optimizer.update(self.W, grad_W)\n",
    "            else:\n",
    "                self.W -= 0.01 * grad_W\n",
    "\n",
    "            if self.w0_optimizer:\n",
    "                self.w0 = self.w0_optimizer.update(self.w0, grad_w0)\n",
    "            else:\n",
    "                self.w0 -= 0.01 * grad_w0\n",
    "\n",
    "        return grad_input\n",
    "\n",
    "    def output_shape(self):\n",
    "        return (self.n_units,)\n"
   ]
  },
  {
   "cell_type": "code",
   "execution_count": 80,
   "id": "ff0b3358-d2cd-43a8-9717-356253a26328",
   "metadata": {},
   "outputs": [
    {
     "name": "stdout",
     "output_type": "stream",
     "text": [
      "Forward pass output: [[ 0.10162127 -0.33551992 -0.64490545]]\n",
      "Backward pass output: [[ 0.20816524 -0.22928937]]\n"
     ]
    }
   ],
   "source": [
    "# Initialize a Dense layer with 3 neurons and input shape (2,)\n",
    "dense_layer = Dense(n_units=3, input_shape=(2,))\n",
    "\n",
    "# Define a mock optimizer with a simple update rule\n",
    "class MockOptimizer:\n",
    "    def update(self, weights, grad):\n",
    "        return weights - 0.01 * grad\n",
    "\n",
    "optimizer = MockOptimizer()\n",
    "\n",
    "# Initialize the Dense layer with the mock optimizer\n",
    "dense_layer.initialize(optimizer)\n",
    "\n",
    "# Perform a forward pass with sample input data\n",
    "X = np.array([[1, 2]])\n",
    "output = dense_layer.forward_pass(X)\n",
    "print(\"Forward pass output:\", output)\n",
    "\n",
    "# Perform a backward pass with sample gradient\n",
    "accum_grad = np.array([[0.1, 0.2, 0.3]])\n",
    "back_output = dense_layer.backward_pass(accum_grad)\n",
    "print(\"Backward pass output:\", back_output)"
   ]
  },
  {
   "cell_type": "code",
   "execution_count": 81,
   "id": "280462f2-9aed-4b4b-9126-0adb3a10dfc1",
   "metadata": {},
   "outputs": [
    {
     "data": {
      "text/plain": [
       "0.22910032390976984"
      ]
     },
     "execution_count": 81,
     "metadata": {},
     "output_type": "execute_result"
    }
   ],
   "source": [
    "1/(1+math.exp(1.21339824 ))"
   ]
  },
  {
   "cell_type": "code",
   "execution_count": 82,
   "id": "0181b6f2-8c12-4973-8ee1-55c4bb03162a",
   "metadata": {},
   "outputs": [],
   "source": [
    "a = np.array([-0.42532238 -0.96050048 -0.37994568])"
   ]
  },
  {
   "cell_type": "code",
   "execution_count": 83,
   "id": "62023258-7812-4336-bec2-9752fb72c752",
   "metadata": {},
   "outputs": [
    {
     "data": {
      "text/plain": [
       "np.float64(-1.76576854)"
      ]
     },
     "execution_count": 83,
     "metadata": {},
     "output_type": "execute_result"
    }
   ],
   "source": [
    "np.sum(a,axis=0)"
   ]
  },
  {
   "cell_type": "code",
   "execution_count": 84,
   "id": "c7c90b2a-348b-411d-a11e-eb6737f13211",
   "metadata": {},
   "outputs": [
    {
     "data": {
      "text/plain": [
       "array([-1.76576854])"
      ]
     },
     "execution_count": 84,
     "metadata": {},
     "output_type": "execute_result"
    }
   ],
   "source": [
    "np.sum(a,axis=0, keepdims = True)"
   ]
  },
  {
   "cell_type": "code",
   "execution_count": 52,
   "id": "808e294a-9f96-48d5-a0a4-bbb74cdc7f6a",
   "metadata": {},
   "outputs": [
    {
     "data": {
      "text/plain": [
       "array([[0., 0., 0., 0., 0.]])"
      ]
     },
     "execution_count": 52,
     "metadata": {},
     "output_type": "execute_result"
    }
   ],
   "source": [
    "np.zeros((1, 5 ))"
   ]
  },
  {
   "cell_type": "code",
   "execution_count": 87,
   "id": "278edcc7-8603-4879-8d52-6a1cb1720cff",
   "metadata": {},
   "outputs": [],
   "source": [
    "# Your task is to implement the Dense class based on the above structure\n",
    "class Dense(Layer):\n",
    "\tdef __init__(self, n_units, input_shape=None):\n",
    "\t\tself.layer_input = None\n",
    "\t\tself.input_shape = input_shape\n",
    "\t\tself.n_units = n_units\n",
    "\t\tself.trainable = True\n",
    "\t\tself.W = None\n",
    "\t\tself.w0 = None\n",
    "\t\tself.W_optimizer = None\n",
    "\t\tself.w0_optimizer = None\n",
    "\t\tif input_shape is not None:\n",
    "\t\t\tself.set_input_shape(input_shape)\n",
    "\t\n",
    "\tdef set_input_shape(self, shape):\n",
    "\t\tsuper().set_input_shape(shape)\n",
    "\t\tself.input_shape = shape\n",
    "\n",
    "\tdef initialize(self, optimizer = None):\n",
    "\t\tlimit = 1 / math.sqrt(self.input_shape[0])\n",
    "\t\tself.W = np.random.uniform( -limit, limit, (self.input_shape[0],  self.n_units))\n",
    "\t\tself.w0 = np.zeros((1, self.n_units))\n",
    "\n",
    "\t\tself.W_optimizer = copy.deepcopy(optimizer) if optimizer else None\n",
    "\n",
    "\t\tself.w0_optimizer = copy.deepcopy(optimizer) if optimizer else None\n",
    "\n",
    "\n",
    "\tdef forward_pass(self, X):\n",
    "\t\tself.layer_input = X\n",
    "\t\treturn X @ self.W + self.w0\n",
    "\n",
    "\n",
    "\tdef backward_pass(self, accum_grad):\n",
    "\t\tgrad_input = accum_grad @ self.W.T\n",
    "\n",
    "\t\tif self.trainable:\n",
    "\t\t\tgrad_weight = self.layer_input.T @ accum_grad\n",
    "\t\t\tgrad_bias  = np.sum(accum_grad, axis =0, keepdims=1)\n",
    "\n",
    "\t\t\tif self.W_optimizer:\n",
    "\t\t\t\tself.W_optimizer.update(self.W, grad_weight)\n",
    "\t\t\telse:\n",
    "\t\t\t\tself.W = self.W - 0.01 * grad_weight\n",
    "\t\t\t\n",
    "\t\t\tif self.w0_optimizer:\n",
    "\t\t\t\tself.w0_optimizer.update(self.w0, grad_bias)\n",
    "\t\t\telse:\n",
    "\t\t\t\tself.w0 = self.w0 - 0.01* grad_bias\n",
    "\t\treturn grad_input\n",
    "\n",
    "\tdef number_of_parameters():\n",
    "\t\treturn np.prod(self.W.shape) + np.prod(self.w0.shape)\n",
    "\t\n",
    "\tdef output_shape(self):\n",
    "\t\treturn (self.n_unit,)"
   ]
  },
  {
   "cell_type": "code",
   "execution_count": 88,
   "id": "168a2c10-bfe6-4df3-847d-936a4b1b5df5",
   "metadata": {},
   "outputs": [
    {
     "name": "stdout",
     "output_type": "stream",
     "text": [
      "Forward pass output: [[-0.42532238 -0.96050048 -0.37994568]]\n",
      "Backward pass output: [[-0.16933853 -0.08963875]]\n"
     ]
    }
   ],
   "source": [
    "# Initialize a Dense layer with 3 neurons and input shape (2,)\n",
    "dense_layer = Dense(n_units=3, input_shape=(2,))\n",
    "\n",
    "# Define a mock optimizer with a simple update rule\n",
    "class MockOptimizer:\n",
    "    def update(self, weights, grad):\n",
    "        return weights - 0.01 * grad\n",
    "\n",
    "optimizer = MockOptimizer()\n",
    "\n",
    "# Initialize the Dense layer with the mock optimizer\n",
    "dense_layer.initialize(optimizer)\n",
    "\n",
    "# Perform a forward pass with sample input data\n",
    "X = np.array([[1, 2]])\n",
    "output = dense_layer.forward_pass(X)\n",
    "print(\"Forward pass output:\", output)\n",
    "\n",
    "# Perform a backward pass with sample gradient\n",
    "accum_grad = np.array([[0.1, 0.2, 0.3]])\n",
    "back_output = dense_layer.backward_pass(accum_grad)\n",
    "print(\"Backward pass output:\", back_output)"
   ]
  },
  {
   "cell_type": "code",
   "execution_count": null,
   "id": "fc3de5c3-c1d9-4210-b494-8095c466e1a1",
   "metadata": {},
   "outputs": [],
   "source": []
  }
 ],
 "metadata": {
  "kernelspec": {
   "display_name": "myenv",
   "language": "python",
   "name": "myenv"
  },
  "language_info": {
   "codemirror_mode": {
    "name": "ipython",
    "version": 3
   },
   "file_extension": ".py",
   "mimetype": "text/x-python",
   "name": "python",
   "nbconvert_exporter": "python",
   "pygments_lexer": "ipython3",
   "version": "3.9.6"
  }
 },
 "nbformat": 4,
 "nbformat_minor": 5
}
