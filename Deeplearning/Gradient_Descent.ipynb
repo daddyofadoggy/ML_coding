{
 "cells": [
  {
   "cell_type": "code",
   "execution_count": 163,
   "id": "76dfa03e-f45e-4598-9fca-4114905321b2",
   "metadata": {},
   "outputs": [],
   "source": [
    "import numpy as np"
   ]
  },
  {
   "cell_type": "code",
   "execution_count": 199,
   "id": "3619083b-21ca-419c-a8a9-01290148c880",
   "metadata": {},
   "outputs": [],
   "source": [
    "def gradient_descent(X, y, weights, learning_rate, n_iterations, batch_size=1, method='batch'):\n",
    "    m,n = X.shape\n",
    "    loss_history = []\n",
    "    \n",
    "    ## init weight ##\n",
    "    #weights = np.zeros(X.shape[1])\n",
    "    for _ in range(n_iterations):\n",
    "        # Calculate  Gradient \n",
    "        \n",
    "        if method == 'batch':\n",
    "            ## all data\n",
    "            y_pred = X @ weights\n",
    "            error = y_pred - y\n",
    "            dw = (2/m) * (X.T @ error)\n",
    "            weights = weights - learning_rate * dw\n",
    "            \n",
    "        elif method == 'stochastic':\n",
    "            for i in range(m):\n",
    "                Xi = X[i:i+1]\n",
    "                yi = y[i : i+1]\n",
    "                y_pred = Xi @ weights\n",
    "                error = y_pred - yi\n",
    "                #print(Xi)\n",
    "                #print(Xi.T.shape)\n",
    "                #print(error)\n",
    "                dw = 2 * (Xi.T @ error)\n",
    "                #print(dw)\n",
    "                weights = weights - learning_rate * dw\n",
    "                #print(weights)\n",
    "                \n",
    "        elif method == 'mini_batch':\n",
    "            for start in range(0, m, batch_size):\n",
    "                #start = i\n",
    "                end = start + batch_size\n",
    "                Xb = X[start : end]\n",
    "                yb = y[start : end]\n",
    "                y_pred = Xb @ weights\n",
    "                error = y_pred - yb\n",
    "                dw = (2/batch_size) * (Xb.T @ error)\n",
    "                #print(dw)\n",
    "                weights = weights - learning_rate * dw\n",
    "                #print(weights)\n",
    "        mse = np.mean((X @ weights - y) ** 2)\n",
    "        loss_history.append(mse)\n",
    "        \n",
    "    return weights, loss_history"
   ]
  },
  {
   "cell_type": "code",
   "execution_count": 200,
   "id": "4d3c3580-f0ad-4a2e-b543-3dc543389c51",
   "metadata": {},
   "outputs": [],
   "source": [
    "# Sample data\n",
    "X = np.array([[1, 1], [2, 1], [3, 1], [4, 1]])\n",
    "y = np.array([2, 3, 4, 5])"
   ]
  },
  {
   "cell_type": "code",
   "execution_count": 201,
   "id": "c45629bc-759b-479c-a17a-490d652d0f40",
   "metadata": {},
   "outputs": [],
   "source": [
    "# Parameters\n",
    "learning_rate = 0.01\n",
    "n_iterations = 1000\n",
    "batch_size = 2"
   ]
  },
  {
   "cell_type": "code",
   "execution_count": 202,
   "id": "c2e318a1-ff5b-4491-8eea-40d6f177dfeb",
   "metadata": {},
   "outputs": [],
   "source": [
    "# Initialize weights\n",
    "weights = np.zeros(X.shape[1])"
   ]
  },
  {
   "cell_type": "code",
   "execution_count": 203,
   "id": "c9253f99-b5d8-4f25-b272-f73b5972b13a",
   "metadata": {},
   "outputs": [],
   "source": [
    "# Test Batch Gradient Descent\n",
    "final_weights, loss_history = gradient_descent(X, y, weights, learning_rate, n_iterations, method='batch')"
   ]
  },
  {
   "cell_type": "code",
   "execution_count": 204,
   "id": "8d4c8710-9a40-4954-ae53-1744a4d18ad3",
   "metadata": {},
   "outputs": [
    {
     "data": {
      "text/plain": [
       "array([1.01003164, 0.97050576])"
      ]
     },
     "execution_count": 204,
     "metadata": {},
     "output_type": "execute_result"
    }
   ],
   "source": [
    "final_weights"
   ]
  },
  {
   "cell_type": "code",
   "execution_count": 212,
   "id": "548c6489-6f75-4158-ac37-815ec484cf65",
   "metadata": {},
   "outputs": [],
   "source": [
    "#loss_history"
   ]
  },
  {
   "cell_type": "code",
   "execution_count": 206,
   "id": "8fff8de7-ba63-4eba-bf19-58b5227e2a0f",
   "metadata": {},
   "outputs": [],
   "source": [
    "# Test Stochastic Gradient Descent\n",
    "final_weights, loss_history = gradient_descent(X, y, weights, learning_rate, n_iterations, method='stochastic')"
   ]
  },
  {
   "cell_type": "code",
   "execution_count": 207,
   "id": "232bd586-962a-4141-90d4-101d7298c8f7",
   "metadata": {},
   "outputs": [
    {
     "data": {
      "text/plain": [
       "array([1.00000058, 0.99999813])"
      ]
     },
     "execution_count": 207,
     "metadata": {},
     "output_type": "execute_result"
    }
   ],
   "source": [
    "final_weights"
   ]
  },
  {
   "cell_type": "code",
   "execution_count": 213,
   "id": "93b19dca-0134-434d-b61c-512a0c728ce7",
   "metadata": {},
   "outputs": [],
   "source": [
    "#loss_history"
   ]
  },
  {
   "cell_type": "code",
   "execution_count": 209,
   "id": "099b23bc-e6ba-48c1-9ab0-5e1018a10c0c",
   "metadata": {},
   "outputs": [
    {
     "data": {
      "text/plain": [
       "array([1.0003804 , 0.99883421])"
      ]
     },
     "execution_count": 209,
     "metadata": {},
     "output_type": "execute_result"
    }
   ],
   "source": [
    "# Test Mini-Batch Gradient Descent\n",
    "final_weights,  loss_history= gradient_descent(X, y, weights, learning_rate, n_iterations, batch_size, method='mini_batch')\n",
    "final_weights"
   ]
  },
  {
   "cell_type": "code",
   "execution_count": 211,
   "id": "4c5619a9-9c39-4e7a-82d4-94ebb48b3bff",
   "metadata": {},
   "outputs": [
    {
     "data": {
      "text/plain": [
       "[np.float64(6.368262934999999),\n",
       " np.float64(3.0268837414725356),\n",
       " np.float64(1.458835106291171),\n",
       " np.float64(0.7212012312210828),\n",
       " np.float64(0.3729472600376114),\n",
       " np.float64(0.2076212018747166),\n",
       " np.float64(0.1284696955368972),\n",
       " np.float64(0.09007391062196851),\n",
       " np.float64(0.07106181834900215),\n",
       " np.float64(0.06134218501235354)]"
      ]
     },
     "execution_count": 211,
     "metadata": {},
     "output_type": "execute_result"
    }
   ],
   "source": [
    "loss_history[0:10]"
   ]
  },
  {
   "cell_type": "code",
   "execution_count": null,
   "id": "c73fd18e-785d-4aac-b5d7-39fceea8b309",
   "metadata": {},
   "outputs": [],
   "source": []
  }
 ],
 "metadata": {
  "kernelspec": {
   "display_name": "myenv",
   "language": "python",
   "name": "myenv"
  },
  "language_info": {
   "codemirror_mode": {
    "name": "ipython",
    "version": 3
   },
   "file_extension": ".py",
   "mimetype": "text/x-python",
   "name": "python",
   "nbconvert_exporter": "python",
   "pygments_lexer": "ipython3",
   "version": "3.9.6"
  }
 },
 "nbformat": 4,
 "nbformat_minor": 5
}
