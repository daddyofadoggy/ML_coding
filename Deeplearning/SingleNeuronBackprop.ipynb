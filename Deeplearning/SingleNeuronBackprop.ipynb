{
 "cells": [
  {
   "cell_type": "code",
   "execution_count": 1,
   "id": "ab295e0b-88d0-47a5-8519-5ae17f6f2259",
   "metadata": {},
   "outputs": [],
   "source": [
    "import numpy as np"
   ]
  },
  {
   "cell_type": "code",
   "execution_count": 59,
   "id": "9a2e4ff9-1ee8-434d-a543-7ee9b5c764fc",
   "metadata": {},
   "outputs": [],
   "source": [
    "def sigmoid(x):\n",
    "    return 1 / (1 + np.exp(-x))\n",
    "\n",
    "def train_neuron(features: np.ndarray, labels: np.ndarray, initial_weights: np.ndarray, initial_bias: float, learning_rate: float, epochs: int) -> (np.ndarray, float, list[float]):\n",
    "    '''\n",
    "    For gradient up see https://chatgpt.com/c/684400fc-1b64-8006-89d3-0fe6eb8a81e1\n",
    "    \n",
    "    '''\n",
    "    # Convert inputs to numpy arrays for vectorized computation\n",
    "    X = np.array(features)\n",
    "    y = np.array(labels)\n",
    "    w = np.array(initial_weights)\n",
    "    b = float(initial_bias)\n",
    "    #print(learning_rate)\n",
    "    #learning_rate = float(learning_rate)\n",
    "    mse_values = []\n",
    "    m,n = X.shape\n",
    "    for _ in range(epochs):\n",
    "        # forward pass\n",
    "        logits = X @ w + b\n",
    "        predictions = sigmoid(logits)\n",
    "        error = predictions - y\n",
    "        mse = np.mean(error**2)\n",
    "        mse_values.append(round(mse,4))\n",
    "        #print(f\"epoch:{_} loss {mse:.4f}\")\n",
    "        \n",
    "        # backward, gradient calculation\n",
    "        d_pred = 2* error * predictions * (1-predictions)\n",
    "        dw = (1/m)*(X.T @ d_pred)\n",
    "        db = (1/m) * sum(d_pred)\n",
    "\n",
    "        # update parameters \n",
    "        w = w - learning_rate * dw\n",
    "        b = b - learning_rate * db\n",
    "    \n",
    "    updated_weights = np.round(w, 4)\n",
    "    updated_bias = round(b, 4)\n",
    "    return updated_weights, updated_bias, mse_values"
   ]
  },
  {
   "cell_type": "code",
   "execution_count": 60,
   "id": "fa7345eb-b41f-4456-9419-c56fdfdaafc9",
   "metadata": {},
   "outputs": [],
   "source": [
    "features = [[1.0, 2.0], [2.0, 1.0], [-1.0, -2.0]]\n",
    "labels = [1, 0, 0]\n",
    "initial_weights = [0.1, -0.2] \n",
    "initial_bias = 0.0\n",
    "learning_rate = 0.1\n",
    "epochs = 2"
   ]
  },
  {
   "cell_type": "code",
   "execution_count": 63,
   "id": "49463614-87d8-40e1-9935-43888efbdf84",
   "metadata": {},
   "outputs": [
    {
     "name": "stdout",
     "output_type": "stream",
     "text": [
      "epoch:0 loss 0.3033\n",
      "epoch:1 loss 0.2942\n"
     ]
    },
    {
     "data": {
      "text/plain": [
       "(array([ 0.1036, -0.1425]),\n",
       " np.float64(-0.0167),\n",
       " [np.float64(0.3033), np.float64(0.2942)])"
      ]
     },
     "execution_count": 63,
     "metadata": {},
     "output_type": "execute_result"
    }
   ],
   "source": [
    "train_neuron(features, labels, initial_weights, initial_bias, learning_rate, epochs)"
   ]
  },
  {
   "cell_type": "code",
   "execution_count": null,
   "id": "e3038286-720c-45e2-a852-0d6b3e5cadc7",
   "metadata": {},
   "outputs": [],
   "source": []
  }
 ],
 "metadata": {
  "kernelspec": {
   "display_name": "myenv",
   "language": "python",
   "name": "myenv"
  },
  "language_info": {
   "codemirror_mode": {
    "name": "ipython",
    "version": 3
   },
   "file_extension": ".py",
   "mimetype": "text/x-python",
   "name": "python",
   "nbconvert_exporter": "python",
   "pygments_lexer": "ipython3",
   "version": "3.9.6"
  }
 },
 "nbformat": 4,
 "nbformat_minor": 5
}
