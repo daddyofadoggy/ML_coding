{
 "cells": [
  {
   "cell_type": "code",
   "execution_count": 42,
   "id": "f03aaf73-fabd-47ca-8c13-b93cff51d77f",
   "metadata": {},
   "outputs": [],
   "source": [
    "import numpy as np"
   ]
  },
  {
   "cell_type": "code",
   "execution_count": 67,
   "id": "c474873d-ab4a-4e33-8a3a-b6200b57685e",
   "metadata": {},
   "outputs": [],
   "source": [
    "def simple_conv2d(input_matrix: np.ndarray, kernel: np.ndarray, padding: int, stride: int):\n",
    "\n",
    "    # Extract Dimension\n",
    "    input_height, input_width = input_matrix.shape\n",
    "    kernel_height, kernel_width = kernel.shape\n",
    "\n",
    "    # Apply padding to the input\n",
    "    if padding > 0:\n",
    "        padded = np.pad(input_matrix, pad_width=((padding, padding), (padding, padding)), mode='constant', constant_values=0)\n",
    "    else:\n",
    "        padded = input_matrix\n",
    "\n",
    "    # Calculate output dimensions\n",
    "    out_h, out_w =  (padded.shape[0] - kernel_height) //  stride + 1 , (padded.shape[1] - kernel_width) //  stride +1  \n",
    "\n",
    "    # Init output array\n",
    "    output_matrix = np.zeros((out_h, out_w))\n",
    "\n",
    "    # Perform Convolution\n",
    "    for i in range(out_h):\n",
    "        for j in range(out_w):\n",
    "\n",
    "            # Define the current region of interest\n",
    "            region =  padded[i * stride : i * stride + kernel_height,  j * stride : j * stride + kernel_width]\n",
    "\n",
    "            # Element-wise multiplication and sum\n",
    "            output_matrix[i,j] = np.sum(region * kernel)\n",
    "            \n",
    "    return output_matrix"
   ]
  },
  {
   "cell_type": "code",
   "execution_count": 68,
   "id": "696d63fe-6423-4e07-980e-ab0e86961003",
   "metadata": {},
   "outputs": [
    {
     "name": "stdout",
     "output_type": "stream",
     "text": [
      "[[ 1.  1. -4.]\n",
      " [ 9.  7. -4.]\n",
      " [ 0. 14. 16.]]\n"
     ]
    }
   ],
   "source": [
    "import numpy as np\n",
    "\n",
    "input_matrix = np.array([\n",
    "    [1, 2, 3, 4],\n",
    "    [5, 6, 7, 8],\n",
    "    [9, 10, 11, 12],\n",
    "    [13, 14, 15, 16]\n",
    "])\n",
    "\n",
    "kernel = np.array([\n",
    "    [1, 0],\n",
    "    [-1, 1]\n",
    "])\n",
    "\n",
    "padding = 1\n",
    "stride = 2\n",
    "\n",
    "output = simple_conv2d(input_matrix, kernel, padding, stride)\n",
    "print(output)"
   ]
  },
  {
   "cell_type": "code",
   "execution_count": 69,
   "id": "27db6a31-30fc-47f2-9db9-784c22d5d2bf",
   "metadata": {},
   "outputs": [
    {
     "name": "stdout",
     "output_type": "stream",
     "text": [
      "[[ 0.   0.   0.   0. ]\n",
      " [ 0.   5.9 13.3 12.5]\n",
      " [ 0.  42.9 50.3 27.5]\n",
      " [ 0.  80.9 88.3 12.5]]\n"
     ]
    }
   ],
   "source": [
    "input_matrix = np.array([ [1., 2., 3., 4., 5.], [6., 7., 8., 9., 10.], [11., 12., 13., 14., 15.], [16., 17., 18., 19., 20.], [21., 22., 23., 24., 25.], ])\n",
    "kernel = np.array([ [.5, 3.2], [1., -1.], ]) \n",
    "padding, stride = 2, 2 \n",
    "output = simple_conv2d(input_matrix, kernel, padding, stride) \n",
    "print(output)"
   ]
  },
  {
   "cell_type": "code",
   "execution_count": null,
   "id": "f51c834c-1fc4-4881-8bf6-343d72b22531",
   "metadata": {},
   "outputs": [],
   "source": []
  }
 ],
 "metadata": {
  "kernelspec": {
   "display_name": "myenv",
   "language": "python",
   "name": "myenv"
  },
  "language_info": {
   "codemirror_mode": {
    "name": "ipython",
    "version": 3
   },
   "file_extension": ".py",
   "mimetype": "text/x-python",
   "name": "python",
   "nbconvert_exporter": "python",
   "pygments_lexer": "ipython3",
   "version": "3.9.6"
  }
 },
 "nbformat": 4,
 "nbformat_minor": 5
}
