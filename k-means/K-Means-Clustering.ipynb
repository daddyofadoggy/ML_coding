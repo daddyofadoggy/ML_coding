{
 "cells": [
  {
   "cell_type": "code",
   "execution_count": 73,
   "id": "ce3b8a2b-2e83-4cc7-9169-2f88a1c04306",
   "metadata": {},
   "outputs": [],
   "source": [
    "import numpy as np"
   ]
  },
  {
   "cell_type": "code",
   "execution_count": 87,
   "id": "28cf7262-13e1-4a19-af9d-a137f7b1ec03",
   "metadata": {},
   "outputs": [],
   "source": [
    "def k_means_clustering(points: list[tuple[float, float]], k: int, initial_centroids: list[tuple[float, float]], max_iterations: int) -> list[tuple[float, float]]:\n",
    "\t# Your code here\n",
    "    def find_closest_centroid (points, initial_centroids):\n",
    "        #points = np.array(points)\n",
    "        m,n = len(points), len(points[0])\n",
    "        idx = np.zeros(m)\n",
    "        '''\n",
    "        for each point find the closest centroid\n",
    "        '''\n",
    "        for i in range(m):\n",
    "            dist = []\n",
    "            for j in range(len(initial_centroids)):\n",
    "                dist_ij = sum((points[i][k] -  initial_centroids[j][k])**2 for k in range(n))\n",
    "                dist.append(dist_ij)\n",
    "            idx[i] = np.argmin(dist)\n",
    "        return idx\n",
    "    def compute_centroids(points, idx, k):\n",
    "        centroids = []\n",
    "        '''\n",
    "        find the data points of all centroids\n",
    "        compute mean for each centroid\n",
    "        '''\n",
    "        #points = np.array(points)\n",
    "        #print(idx[-10:])\n",
    "        for i in range(k):\n",
    "            indices = np.where(idx == i)[0]\n",
    "            x = [points[k] for k in indices]\n",
    "            #print(x)\n",
    "            centroids.append(tuple(np.mean(x, axis=0)))\n",
    "        return centroids\n",
    "    for i in range(max_iterations):\n",
    "        # find the closest centroid of all data points\n",
    "        idx = find_closest_centroid(points, initial_centroids)\n",
    "        # compute the menan of each centroid\n",
    "        centroids = compute_centroids(points, idx, k)\n",
    "        final_centroids = [tuple(round(float(val),4) for val in tup) for tup in centroids]\n",
    "    #print(centroids)\n",
    "    return final_centroids"
   ]
  },
  {
   "cell_type": "code",
   "execution_count": 88,
   "id": "5aba5862-5e1f-46b8-b394-7a5d2b76c84e",
   "metadata": {},
   "outputs": [
    {
     "data": {
      "text/plain": [
       "[(1.0, 2.0), (10.0, 2.0)]"
      ]
     },
     "execution_count": 88,
     "metadata": {},
     "output_type": "execute_result"
    }
   ],
   "source": [
    "points = [(1, 2), (1, 4), (1, 0), (10, 2), (10, 4), (10, 0)]\n",
    "k = 2\n",
    "initial_centroids = [(1, 1), (10, 1)]\n",
    "max_iterations = 10\n",
    "k_means_clustering(points, k, initial_centroids, max_iterations)"
   ]
  },
  {
   "cell_type": "code",
   "execution_count": 89,
   "id": "0ce63487-6833-4da0-923c-bfee1c99dd67",
   "metadata": {},
   "outputs": [
    {
     "data": {
      "text/plain": [
       "[(1.0, 1.0, 1.0), (10.3333, 10.6667, 10.3333)]"
      ]
     },
     "execution_count": 89,
     "metadata": {},
     "output_type": "execute_result"
    }
   ],
   "source": [
    "points = [(0, 0, 0), (2, 2, 2), (1, 1, 1), (9, 10, 9), (10, 11, 10), (12, 11, 12)]\n",
    "k =2 \n",
    "initial_centroids = [(1, 1, 1), (10, 10, 10)]\n",
    "max_iterations = 10\n",
    "k_means_clustering(points, k, initial_centroids, max_iterations)"
   ]
  },
  {
   "cell_type": "code",
   "execution_count": null,
   "id": "fcec9eff-e156-458e-832e-cac472f462ea",
   "metadata": {},
   "outputs": [],
   "source": []
  }
 ],
 "metadata": {
  "kernelspec": {
   "display_name": "myenv",
   "language": "python",
   "name": "myenv"
  },
  "language_info": {
   "codemirror_mode": {
    "name": "ipython",
    "version": 3
   },
   "file_extension": ".py",
   "mimetype": "text/x-python",
   "name": "python",
   "nbconvert_exporter": "python",
   "pygments_lexer": "ipython3",
   "version": "3.9.6"
  }
 },
 "nbformat": 4,
 "nbformat_minor": 5
}
