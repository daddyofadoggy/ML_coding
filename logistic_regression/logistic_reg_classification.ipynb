{
 "cells": [
  {
   "cell_type": "code",
   "execution_count": 1,
   "id": "93a646fc-bfe8-4c87-a2a5-c1c9da534ca6",
   "metadata": {},
   "outputs": [],
   "source": [
    "import numpy as np"
   ]
  },
  {
   "cell_type": "code",
   "execution_count": 2,
   "id": "643f7837-0ab3-43bf-a560-bd187106926a",
   "metadata": {},
   "outputs": [],
   "source": [
    "def sigmoid(x):\n",
    "    return 1 /(1 + np.exp(-x))"
   ]
  },
  {
   "cell_type": "code",
   "execution_count": 11,
   "id": "19ab05c4-f69f-4086-ba81-c86575b64052",
   "metadata": {},
   "outputs": [],
   "source": [
    "def predict_logistic(X: np.ndarray, weights: np.ndarray, bias: float) -> np.ndarray:\n",
    "    z = X @ weights + bias\n",
    "    predictions = sigmoid(z)\n",
    "    print(predictions)\n",
    "    predictions = (predictions>=0.5).astype(int)\n",
    "    return predictions.tolist()"
   ]
  },
  {
   "cell_type": "code",
   "execution_count": 12,
   "id": "711d6192-b3ce-4f9a-a501-455585a3827e",
   "metadata": {},
   "outputs": [
    {
     "name": "stdout",
     "output_type": "stream",
     "text": [
      "[0.88079708 0.98201379 0.11920292 0.01798621]\n"
     ]
    },
    {
     "data": {
      "text/plain": [
       "[1, 1, 0, 0]"
      ]
     },
     "execution_count": 12,
     "metadata": {},
     "output_type": "execute_result"
    }
   ],
   "source": [
    "predict_logistic(np.array([[1, 1], [2, 2], [-1, -1], [-2, -2]]), np.array([1, 1]), 0)"
   ]
  },
  {
   "cell_type": "code",
   "execution_count": 13,
   "id": "f90cd8c2-b4e1-4270-9e96-3863c528159c",
   "metadata": {},
   "outputs": [
    {
     "name": "stdout",
     "output_type": "stream",
     "text": [
      "[0.5      0.549834 0.450166]\n",
      "[1, 1, 0]\n"
     ]
    }
   ],
   "source": [
    "print(predict_logistic(np.array([[0, 0], [0.1, 0.1], [-0.1, -0.1]]), np.array([1, 1]), 0))"
   ]
  },
  {
   "cell_type": "code",
   "execution_count": null,
   "id": "c494ef7e-2189-40bd-882f-f0fb3b162c8e",
   "metadata": {},
   "outputs": [],
   "source": []
  }
 ],
 "metadata": {
  "kernelspec": {
   "display_name": "myenv",
   "language": "python",
   "name": "myenv"
  },
  "language_info": {
   "codemirror_mode": {
    "name": "ipython",
    "version": 3
   },
   "file_extension": ".py",
   "mimetype": "text/x-python",
   "name": "python",
   "nbconvert_exporter": "python",
   "pygments_lexer": "ipython3",
   "version": "3.9.6"
  }
 },
 "nbformat": 4,
 "nbformat_minor": 5
}
