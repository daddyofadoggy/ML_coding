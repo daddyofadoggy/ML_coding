{
 "cells": [
  {
   "cell_type": "markdown",
   "id": "d8453f96-139d-4d56-b121-86fb4b5d7b92",
   "metadata": {},
   "source": [
    "<div class=\"alert alert-block alert-success\">\n",
    "    <h1 align=\"center\">Logistic Regression With KaggleHub Data</h1>"
   ]
  },
  {
   "cell_type": "code",
   "execution_count": 22,
   "id": "78dbad87-fb7d-4461-8d99-3653258f7129",
   "metadata": {},
   "outputs": [],
   "source": [
    "# Allows us to use arrays to manipulate and store data\n",
    "import numpy as np\n",
    "# Used to graph data and loss curves\n",
    "import matplotlib.pyplot as plt\n",
    "from mpl_toolkits import mplot3d\n",
    "# PyTorch Library\n",
    "import torch\n",
    "# Used to help create the dataset and perform mini-batch\n",
    "from torch.utils.data import Dataset, DataLoader\n",
    "# PyTorch Neural Network\n",
    "import torch.nn as nn\n",
    "import kagglehub\n",
    "from sklearn.preprocessing import StandardScaler"
   ]
  },
  {
   "cell_type": "code",
   "execution_count": 23,
   "id": "034cd114-f173-4808-85eb-732c787fe01f",
   "metadata": {},
   "outputs": [
    {
     "data": {
      "text/plain": [
       "<torch._C.Generator at 0x7f411851c450>"
      ]
     },
     "execution_count": 23,
     "metadata": {},
     "output_type": "execute_result"
    }
   ],
   "source": [
    "import pandas as pd\n",
    "# Setting the seed will allow us to control randomness and give us reproducibility\n",
    "torch.manual_seed(0)"
   ]
  },
  {
   "cell_type": "markdown",
   "id": "b6653bd4-b13a-4197-9964-fac85052e43c",
   "metadata": {},
   "source": [
    "## Data Set prep"
   ]
  },
  {
   "cell_type": "code",
   "execution_count": 24,
   "id": "e89e1a93-264d-48d4-a44b-5281c7943369",
   "metadata": {},
   "outputs": [],
   "source": [
    "class DiabetesDataset(Dataset):\n",
    "    \"\"\"The pima indian housing diabetes dataset which we will pull from kaggle.\"\"\"\n",
    "\n",
    "    def __init__(self):\n",
    "        \"\"\"Dataset initialization, may involve downloading the dataset.\"\"\"\n",
    "\n",
    "        path = kagglehub.dataset_download(\"uciml/pima-indians-diabetes-database\")\n",
    "        df = pd.read_csv(path + \"/diabetes.csv\")\n",
    "        self.df = df\n",
    "\n",
    "        self.features = torch.tensor(\n",
    "            df.drop(columns=[\"Outcome\"]).values\n",
    "        ).to(dtype=torch.float32)\n",
    "        self.scaler = StandardScaler()\n",
    "        self.features = torch.tensor(\n",
    "            self.scaler.fit_transform(self.features.cpu().numpy())\n",
    "        ).to(dtype=torch.float32)\n",
    "\n",
    "        self.n_features = self.features.shape[1]\n",
    "        self.targets = (\n",
    "            torch.tensor(df[\"Outcome\"].values)\n",
    "            .to(dtype=torch.float32)\n",
    "            .unsqueeze(1)\n",
    "        )\n",
    "\n",
    "        self.n_targets = self.targets.shape[1]\n",
    "\n",
    "    def __len__(self):\n",
    "        return len(self.df)\n",
    "\n",
    "    def __getitem__(self, idx):\n",
    "        return self.features[idx], self.targets[idx]"
   ]
  },
  {
   "cell_type": "code",
   "execution_count": 25,
   "id": "a02f7ec6-c3d9-4174-9b9d-a01406c14d6a",
   "metadata": {},
   "outputs": [],
   "source": [
    "# Create Data object\n",
    "data_set = DiabetesDataset()"
   ]
  },
  {
   "cell_type": "code",
   "execution_count": 26,
   "id": "2ac0b8b1-01f4-4b47-9a30-38e41b6183b7",
   "metadata": {},
   "outputs": [
    {
     "data": {
      "text/plain": [
       "torch.Size([768, 8])"
      ]
     },
     "execution_count": 26,
     "metadata": {},
     "output_type": "execute_result"
    }
   ],
   "source": [
    "data_set.features.shape"
   ]
  },
  {
   "cell_type": "code",
   "execution_count": 27,
   "id": "add63110-7b1f-4c3d-8b43-9ef4fb20390e",
   "metadata": {},
   "outputs": [
    {
     "data": {
      "text/plain": [
       "tensor([[ 0.6399,  0.8483,  0.1496,  0.9073, -0.6929,  0.2040,  0.4685,  1.4260],\n",
       "        [-0.8449, -1.1234, -0.1605,  0.5309, -0.6929, -0.6844, -0.3651, -0.1907],\n",
       "        [ 1.2339,  1.9437, -0.2639, -1.2882, -0.6929, -1.1033,  0.6044, -0.1056],\n",
       "        [-0.8449, -0.9982, -0.1605,  0.1545,  0.1233, -0.4940, -0.9208, -1.0415],\n",
       "        [-1.1419,  0.5041, -1.5047,  0.9073,  0.7658,  1.4097,  5.4849, -0.0205],\n",
       "        [ 0.3430, -0.1532,  0.2530, -1.2882, -0.6929, -0.8113, -0.8181, -0.2758],\n",
       "        [-0.2510, -1.3425, -0.9877,  0.7191,  0.0712, -0.1260, -0.6761, -0.6161],\n",
       "        [ 1.8278, -0.1845, -3.5726, -1.2882, -0.6929,  0.4198, -1.0204, -0.3608],\n",
       "        [-0.5479,  2.3819,  0.0462,  1.5346,  4.0219, -0.1894, -0.9479,  1.6813],\n",
       "        [ 1.2339,  0.1285,  1.3904, -1.2882, -0.6929, -4.0605, -0.7245,  1.7663]])"
      ]
     },
     "execution_count": 27,
     "metadata": {},
     "output_type": "execute_result"
    }
   ],
   "source": [
    "data_set.features[0:10]"
   ]
  },
  {
   "cell_type": "code",
   "execution_count": 28,
   "id": "a8d2cbd3-0248-4fd1-88b1-4870f6466d72",
   "metadata": {},
   "outputs": [
    {
     "data": {
      "text/plain": [
       "tensor([[1.],\n",
       "        [0.],\n",
       "        [1.],\n",
       "        [0.],\n",
       "        [1.],\n",
       "        [0.],\n",
       "        [1.],\n",
       "        [0.],\n",
       "        [1.],\n",
       "        [1.]])"
      ]
     },
     "execution_count": 28,
     "metadata": {},
     "output_type": "execute_result"
    }
   ],
   "source": [
    "data_set.targets[0:10]"
   ]
  },
  {
   "cell_type": "markdown",
   "id": "d649adac-1c80-4f2d-a317-4859eb4ee15e",
   "metadata": {},
   "source": [
    "# Setting the Batch Size using a Data Loader\n",
    "You have to use data loader in PyTorch that will output a batch of data, the input is the dataset and batch_size"
   ]
  },
  {
   "cell_type": "code",
   "execution_count": 29,
   "id": "e4222545-ed09-4995-8428-13160e574daf",
   "metadata": {},
   "outputs": [],
   "source": [
    "traindataloader = DataLoader(dataset = data_set, batch_size = 16)"
   ]
  },
  {
   "cell_type": "code",
   "execution_count": 30,
   "id": "b7951c4d-8cea-4a25-a213-4feb6f83aa2e",
   "metadata": {},
   "outputs": [],
   "source": [
    "dataset_iter = iter(traindataloader)"
   ]
  },
  {
   "cell_type": "code",
   "execution_count": 31,
   "id": "5c56d684-8b75-49a1-8953-795d8dcb6076",
   "metadata": {},
   "outputs": [],
   "source": [
    "X,y=next(dataset_iter)"
   ]
  },
  {
   "cell_type": "code",
   "execution_count": 32,
   "id": "116dbdf9-c5be-4477-bc1b-74ae2d653f7a",
   "metadata": {},
   "outputs": [
    {
     "data": {
      "text/plain": [
       "(torch.Size([16, 8]), torch.Size([16, 1]))"
      ]
     },
     "execution_count": 32,
     "metadata": {},
     "output_type": "execute_result"
    }
   ],
   "source": [
    "X.shape, y.shape"
   ]
  },
  {
   "cell_type": "markdown",
   "id": "43e2d93e-4bd8-4fa2-ab02-afdfbd961999",
   "metadata": {},
   "source": [
    "## Model ##"
   ]
  },
  {
   "cell_type": "code",
   "execution_count": 33,
   "id": "7233b1d9-a14c-40ab-b8e0-5f4f27a18658",
   "metadata": {},
   "outputs": [],
   "source": [
    "class logistic_regression(nn.Module):\n",
    "    def __init__(self, n_inputs):\n",
    "        super(logistic_regression,self).__init__()\n",
    "        self.linear = nn.Linear(n_inputs,1)\n",
    "    def forward(self,x):\n",
    "        yhat = torch.sigmoid(self.linear(x))\n",
    "        return yhat"
   ]
  },
  {
   "cell_type": "code",
   "execution_count": 34,
   "id": "9b0b4290-1561-49ee-b798-08c9660b3b19",
   "metadata": {},
   "outputs": [],
   "source": [
    "# Create the logistic_regression result\n",
    "\n",
    "model = logistic_regression(data_set.features.shape[1])"
   ]
  },
  {
   "cell_type": "code",
   "execution_count": 35,
   "id": "1363a014-f10d-49cd-b085-b412c11f4c12",
   "metadata": {},
   "outputs": [
    {
     "data": {
      "text/plain": [
       "tensor([0.4335], grad_fn=<SigmoidBackward0>)"
      ]
     },
     "execution_count": 35,
     "metadata": {},
     "output_type": "execute_result"
    }
   ],
   "source": [
    "## test forward pass\n",
    "x = data_set.features[0]\n",
    "sig = model(x)\n",
    "sig"
   ]
  },
  {
   "cell_type": "code",
   "execution_count": 36,
   "id": "764fbbb2-7904-4f4b-82da-db86c16448c1",
   "metadata": {},
   "outputs": [
    {
     "data": {
      "text/plain": [
       "array([0.43354487], dtype=float32)"
      ]
     },
     "execution_count": 36,
     "metadata": {},
     "output_type": "execute_result"
    }
   ],
   "source": [
    "sig.detach().numpy()"
   ]
  },
  {
   "cell_type": "markdown",
   "id": "a2d41136-f10a-43f4-bd56-5fb71c305a6f",
   "metadata": {},
   "source": [
    "## Setting the Learning Rate, Optimizer, loss function"
   ]
  },
  {
   "cell_type": "code",
   "execution_count": 37,
   "id": "ff80cb48-5e7d-49a6-8a4b-55cebc19375d",
   "metadata": {},
   "outputs": [],
   "source": [
    "criteria = nn.BCELoss()\n",
    "learning_rate = 0.001"
   ]
  },
  {
   "cell_type": "code",
   "execution_count": 38,
   "id": "54bb73cb-2344-4466-9883-a49dad93a25d",
   "metadata": {},
   "outputs": [
    {
     "data": {
      "text/plain": [
       "[Parameter containing:\n",
       " tensor([[-0.2910, -0.2602, -0.1362,  0.0948, -0.0070,  0.2803, -0.0314,  0.0936]],\n",
       "        requires_grad=True),\n",
       " Parameter containing:\n",
       " tensor([-0.1068], requires_grad=True)]"
      ]
     },
     "execution_count": 38,
     "metadata": {},
     "output_type": "execute_result"
    }
   ],
   "source": [
    "list(model.parameters())"
   ]
  },
  {
   "cell_type": "code",
   "execution_count": 39,
   "id": "5556c2a9-1431-4ad3-b197-53bc5054648f",
   "metadata": {},
   "outputs": [],
   "source": [
    "optimizer = torch.optim.SGD(model.parameters(), lr = learning_rate)"
   ]
  },
  {
   "cell_type": "markdown",
   "id": "8688b10d-458c-4c61-b2d7-64f26dfead2b",
   "metadata": {},
   "source": [
    "## training loop "
   ]
  },
  {
   "cell_type": "code",
   "execution_count": 40,
   "id": "5f3c26eb-f51a-4e3f-b7cd-531c0c3f279b",
   "metadata": {},
   "outputs": [],
   "source": [
    "epochs = 500\n",
    "loss_values = []"
   ]
  },
  {
   "cell_type": "code",
   "execution_count": null,
   "id": "b097bd5a-f90e-4ebe-9bb6-ec019355ac2c",
   "metadata": {},
   "outputs": [],
   "source": []
  },
  {
   "cell_type": "code",
   "execution_count": 41,
   "id": "80de66b0-6ebf-4852-a19d-b833995626d8",
   "metadata": {},
   "outputs": [],
   "source": [
    "for epoch in range(epochs):\n",
    "    for x,y in traindataloader:\n",
    "        # Make our predictions from the X values\n",
    "        yhat = model(x)\n",
    "        # Measure the loss between our prediction and actual Y values\n",
    "        loss = criteria(yhat, y)\n",
    "        # Resets the calculated gradient value, this must be done each time as it accumulates if we do not reset\n",
    "        optimizer.zero_grad()\n",
    "        loss.backward()\n",
    "        # Updates the weight and bias according to calculated gradient value\n",
    "        optimizer.step()\n",
    "        #get_surface.set_para_loss(model, loss.tolist())\n",
    "        # Saves the loss of the iteration\n",
    "    loss_values.append(loss)"
   ]
  },
  {
   "cell_type": "code",
   "execution_count": null,
   "id": "c5280962-01fd-41cb-a99a-2618d9c2bb7e",
   "metadata": {},
   "outputs": [],
   "source": []
  },
  {
   "cell_type": "code",
   "execution_count": 42,
   "id": "dffadfa7-dc5a-4065-bd0f-66f3eb87419b",
   "metadata": {},
   "outputs": [
    {
     "data": {
      "text/plain": [
       "500"
      ]
     },
     "execution_count": 42,
     "metadata": {},
     "output_type": "execute_result"
    }
   ],
   "source": [
    "len(loss_values)"
   ]
  },
  {
   "cell_type": "code",
   "execution_count": 21,
   "id": "229abe03-9607-4213-a1b1-cffd1412a4fd",
   "metadata": {},
   "outputs": [],
   "source": [
    "#loss_values"
   ]
  },
  {
   "cell_type": "code",
   "execution_count": null,
   "id": "01d265d4-7d14-4300-aaeb-730cdbc7ec37",
   "metadata": {},
   "outputs": [],
   "source": []
  },
  {
   "cell_type": "code",
   "execution_count": 43,
   "id": "2ddc865d-ed4b-4f39-b53e-f592e05c65ab",
   "metadata": {},
   "outputs": [
    {
     "name": "stdout",
     "output_type": "stream",
     "text": [
      "w =  tensor([ 0.3411,  0.9931, -0.2229, -0.0125, -0.0666,  0.6594,  0.2873,  0.2408]) b =  tensor(-0.8189)\n"
     ]
    }
   ],
   "source": [
    "w = model.state_dict()['linear.weight'].data[0]\n",
    "b = model.state_dict()['linear.bias'].data[0]\n",
    "print(\"w = \", w, \"b = \", b)"
   ]
  },
  {
   "cell_type": "code",
   "execution_count": null,
   "id": "887c31da-abc6-4b6a-9db8-b0c1b1d9c2b3",
   "metadata": {},
   "outputs": [],
   "source": []
  },
  {
   "cell_type": "code",
   "execution_count": null,
   "id": "b55d93d7-0ac9-42cb-8414-ff813a8a2042",
   "metadata": {},
   "outputs": [],
   "source": []
  },
  {
   "cell_type": "code",
   "execution_count": 44,
   "id": "644ca2d6-da59-4c49-a61d-ff1004312565",
   "metadata": {},
   "outputs": [],
   "source": [
    "import matplotlib.pyplot as plt"
   ]
  },
  {
   "cell_type": "code",
   "execution_count": 45,
   "id": "118d95e0-d392-4ff5-adc0-cd99ea8b23ab",
   "metadata": {},
   "outputs": [
    {
     "data": {
      "image/png": "[encoded data removed]",
      "text/plain": [
       "<Figure size 640x480 with 1 Axes>"
      ]
     },
     "metadata": {},
     "output_type": "display_data"
    }
   ],
   "source": [
    "# Assuming loss_values is a PyTorch tensor\n",
    "loss_values = torch.tensor(loss_values)\n",
    "\n",
    "# Use tensor.detach().numpy() to convert the PyTorch tensor to a NumPy array\n",
    "plt.plot(loss_values.detach().numpy())\n",
    "plt.xlabel(\"Iteration\")\n",
    "plt.ylabel(\"Cost\")\n",
    "plt.show()"
   ]
  },
  {
   "cell_type": "code",
   "execution_count": null,
   "id": "2717713b-2034-472b-86e3-d4a5f6fedc80",
   "metadata": {},
   "outputs": [],
   "source": []
  },
  {
   "cell_type": "code",
   "execution_count": 68,
   "id": "ea46c646-1608-4822-9de5-ae7a9e157db6",
   "metadata": {},
   "outputs": [],
   "source": [
    "# prediction\n",
    "p = []\n",
    "with torch.no_grad():\n",
    "    # set model to evaluation mode\n",
    "    model.eval()\n",
    "    #for x,y in traindataloader:\n",
    "    yhat = model(data_set.features)\n",
    "    pr = yhat>=0.5\n",
    "    p.append(pr.detach().numpy())"
   ]
  },
  {
   "cell_type": "code",
   "execution_count": 71,
   "id": "c25750d9-844e-4627-b784-cbb8645ba3ee",
   "metadata": {},
   "outputs": [
    {
     "data": {
      "text/plain": [
       "array([[ True],\n",
       "       [False],\n",
       "       [ True],\n",
       "       [False],\n",
       "       [ True],\n",
       "       [False],\n",
       "       [False],\n",
       "       [ True],\n",
       "       [ True],\n",
       "       [False]])"
      ]
     },
     "execution_count": 71,
     "metadata": {},
     "output_type": "execute_result"
    }
   ],
   "source": [
    "p[0][0:10]"
   ]
  },
  {
   "cell_type": "code",
   "execution_count": 70,
   "id": "74ea3a1d-57b1-47f1-bd1b-a9c279b9d0c9",
   "metadata": {},
   "outputs": [
    {
     "name": "stdout",
     "output_type": "stream",
     "text": [
      "Train Accuracy: 77.994792\n"
     ]
    }
   ],
   "source": [
    "\n",
    "print('Train Accuracy: %f'%(np.mean(p[0] == data_set.targets.detach().numpy()) * 100))"
   ]
  },
  {
   "cell_type": "code",
   "execution_count": null,
   "id": "6a6593db-5fa9-4ab6-b891-6c1388eadda7",
   "metadata": {},
   "outputs": [],
   "source": []
  },
  {
   "cell_type": "code",
   "execution_count": null,
   "id": "07ec0d8f-46a1-4cac-8094-a2a210d3e600",
   "metadata": {},
   "outputs": [],
   "source": []
  }
 ],
 "metadata": {
  "kernelspec": {
   "display_name": "Python 3 (ipykernel)",
   "language": "python",
   "name": "python3"
  },
  "language_info": {
   "codemirror_mode": {
    "name": "ipython",
    "version": 3
   },
   "file_extension": ".py",
   "mimetype": "text/x-python",
   "name": "python",
   "nbconvert_exporter": "python",
   "pygments_lexer": "ipython3",
   "version": "3.12.1"
  }
 },
 "nbformat": 4,
 "nbformat_minor": 5
}
