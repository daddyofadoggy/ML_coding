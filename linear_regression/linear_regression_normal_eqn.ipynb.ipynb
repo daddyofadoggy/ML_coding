{
 "cells": [
  {
   "cell_type": "code",
   "execution_count": 1,
   "id": "4215ccfa-d0a7-4b22-8764-4956b1816269",
   "metadata": {},
   "outputs": [],
   "source": [
    "import numpy as np\n",
    "import matplotlib.pyplot as plt"
   ]
  },
  {
   "cell_type": "code",
   "execution_count": 2,
   "id": "0f29cf74-8d50-4e99-a128-c32603ce5664",
   "metadata": {},
   "outputs": [],
   "source": [
    "def plot_loss_curve_log(losses):\n",
    "    \"\"\"\n",
    "    Plots loss vs epoch curve with log scale on the y-axis.\n",
    "\n",
    "    Parameters:\n",
    "    - losses: list of loss values per epoch\n",
    "    \"\"\"\n",
    "    plt.figure(figsize=(8, 5))\n",
    "    plt.plot(losses, label='Loss')\n",
    "    plt.xlabel('Epoch')\n",
    "    plt.ylabel('Loss (log scale)')\n",
    "    plt.yscale('log')  # Set y-axis to log scale\n",
    "    plt.title('Loss vs Epoch (Log Scale)')\n",
    "    plt.grid(True, which='both', linestyle='--', linewidth=0.5)\n",
    "    plt.legend()\n",
    "    plt.tight_layout()\n",
    "    plt.show()"
   ]
  },
  {
   "cell_type": "code",
   "execution_count": 26,
   "id": "4da95428-8d6a-4c09-b69b-ac431c7ba9ce",
   "metadata": {},
   "outputs": [],
   "source": [
    "class linearRegNormal:\n",
    "    def __init__(self):\n",
    "        self.theta = None\n",
    "        self.loss = None\n",
    "        self.y_real = None\n",
    "        \n",
    "    def fit(self, X,y):\n",
    "        X = np.array(X)\n",
    "        y = np.array(y)\n",
    "        self.y_real = y\n",
    "        self.theta =  np.linalg.inv(X.T @ X) @ X.T @y \n",
    "        \n",
    "    def predict(self, X):\n",
    "        X = np.array(X)\n",
    "        m,n = X.shape\n",
    "        predictions = X @ self.theta\n",
    "        self.loss = (1/(2*m)) * np.sum((predictions - self.y_real)**2) \n",
    "        return predictions"
   ]
  },
  {
   "cell_type": "code",
   "execution_count": 27,
   "id": "24d084d2-9ef9-42ae-a57b-d3116669fad2",
   "metadata": {},
   "outputs": [],
   "source": [
    "regressor = linearRegNormal()"
   ]
  },
  {
   "cell_type": "code",
   "execution_count": 28,
   "id": "3e1b8aa6-9251-4874-88b5-c11ad8832317",
   "metadata": {},
   "outputs": [],
   "source": [
    "X = [[1, 1], [1, 2], [1, 3]]\n",
    "y = [1, 2, 3]\n",
    "regressor.fit(X,y)"
   ]
  },
  {
   "cell_type": "code",
   "execution_count": 29,
   "id": "5f84280e-7fd0-447c-9165-7f403a0bbd0a",
   "metadata": {},
   "outputs": [
    {
     "data": {
      "text/plain": [
       "array([1., 2., 3.])"
      ]
     },
     "execution_count": 29,
     "metadata": {},
     "output_type": "execute_result"
    }
   ],
   "source": [
    "regressor.predict(X)"
   ]
  },
  {
   "cell_type": "code",
   "execution_count": 30,
   "id": "71b40c19-7114-4b67-98ee-4e6e8890d6c4",
   "metadata": {},
   "outputs": [
    {
     "data": {
      "text/plain": [
       "array([-1.77635684e-15,  1.00000000e+00])"
      ]
     },
     "execution_count": 30,
     "metadata": {},
     "output_type": "execute_result"
    }
   ],
   "source": [
    "regressor.theta"
   ]
  },
  {
   "cell_type": "code",
   "execution_count": 31,
   "id": "108afbd4-24a8-4c1b-b936-6e75cccc9ba5",
   "metadata": {},
   "outputs": [
    {
     "data": {
      "text/plain": [
       "np.float64(1.5777218104420236e-30)"
      ]
     },
     "execution_count": 31,
     "metadata": {},
     "output_type": "execute_result"
    }
   ],
   "source": [
    "regressor.loss"
   ]
  },
  {
   "cell_type": "code",
   "execution_count": null,
   "id": "2fbd531d-1c81-41af-a1b8-52580355c3aa",
   "metadata": {},
   "outputs": [],
   "source": []
  }
 ],
 "metadata": {
  "kernelspec": {
   "display_name": "myenv",
   "language": "python",
   "name": "myenv"
  },
  "language_info": {
   "codemirror_mode": {
    "name": "ipython",
    "version": 3
   },
   "file_extension": ".py",
   "mimetype": "text/x-python",
   "name": "python",
   "nbconvert_exporter": "python",
   "pygments_lexer": "ipython3",
   "version": "3.9.6"
  }
 },
 "nbformat": 4,
 "nbformat_minor": 5
}
