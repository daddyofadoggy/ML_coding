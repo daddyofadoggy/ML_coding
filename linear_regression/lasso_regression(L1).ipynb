{
 "cells": [
  {
   "cell_type": "code",
   "execution_count": 137,
   "id": "2e48e235-04a1-4403-8a34-3e853fdee276",
   "metadata": {},
   "outputs": [],
   "source": [
    "import numpy as np"
   ]
  },
  {
   "cell_type": "code",
   "execution_count": 156,
   "id": "b7a331e8-e0a8-4898-9c54-91a766a048b0",
   "metadata": {},
   "outputs": [],
   "source": [
    "import matplotlib.pyplot as plt"
   ]
  },
  {
   "cell_type": "code",
   "execution_count": 148,
   "id": "133ca9e5-b9d4-4c1b-a30c-87f3379ff340",
   "metadata": {},
   "outputs": [],
   "source": [
    "def plot_loss_curve_log(losses):\n",
    "    \"\"\"\n",
    "    Plots loss vs epoch curve with log scale on the y-axis.\n",
    "\n",
    "    Parameters:\n",
    "    - losses: list of loss values per epoch\n",
    "    \"\"\"\n",
    "    plt.figure(figsize=(8, 5))\n",
    "    plt.plot(losses, label='Loss')\n",
    "    plt.xlabel('Epoch')\n",
    "    plt.ylabel('Loss (log scale)')\n",
    "    plt.yscale('log')  # Set y-axis to log scale\n",
    "    plt.title('Loss vs Epoch (Log Scale)')\n",
    "    plt.grid(True, which='both', linestyle='--', linewidth=0.5)\n",
    "    plt.legend()\n",
    "    plt.tight_layout()\n",
    "    plt.show()"
   ]
  },
  {
   "cell_type": "code",
   "execution_count": 149,
   "id": "8b897a4f-f45d-4809-9437-0208b515e8d2",
   "metadata": {},
   "outputs": [],
   "source": [
    "class LassoRegression:\n",
    "    \"\"\"\n",
    "    Linear regression using gradient descent with L2 regularization.\n",
    "\n",
    "    Parameters:\n",
    "    - X: numpy array of shape (m, n+1), input features with bias column\n",
    "    - y: numpy array of shape (m, 1), target values\n",
    "    - alpha: learning rate\n",
    "    - iterations: number of iterations\n",
    "    - lambda_: regularization strength\n",
    "\n",
    "    compute:\n",
    "    - theta: learned coefficients (n+1, 1)\n",
    "    - losses: list of loss values per iteration\n",
    "    \n",
    "    Return:\n",
    "    - predictions: prdiction of y\n",
    "    \"\"\"\n",
    "    def __init__(self, alpha=0.1, learning_rate= 0.01, max_iter=100, tol= 1e-4):\n",
    "        self.alpha = alpha\n",
    "        self.max_iter = max_iter\n",
    "        self.learning_rate = learning_rate\n",
    "        self.tol = tol\n",
    "        self.weights = None\n",
    "        self.bias = None\n",
    "        self.loss_history = []\n",
    "        \n",
    "    def fit(self, X,y):\n",
    "        n_samples, n_features = X.shape\n",
    "        self.weights = np.zeros(n_features)\n",
    "        self.bias = 0\n",
    "        for _ in range(self.max_iter):\n",
    "            y_pred = np.dot(X, self.weights) + bias \n",
    "            error = y_pred - y\n",
    "            \n",
    "            # Loss\n",
    "            mse = (1/(2*n_samples)) * np.sum(error**2)\n",
    "            l1_loss = self.alpha* np.sum(np.abs(self.weights))\n",
    "            totalloss = mse + l1_loss\n",
    "            self.loss_history.append(totalloss)\n",
    "            #print(f\"epoch:{_}, loss:{totalloss}\")\n",
    "            # calculate gradient \n",
    "            dw = (1/n_samples)* np.dot(X.T, error) + alpha*np.sign(weights)\n",
    "            db = (1/n_samples)* np.sum(error)\n",
    "    \n",
    "            # updates weights\n",
    "            self.weights = self.weights - self.learning_rate* dw\n",
    "            self.bias = self.bias - self.learning_rate* db\n",
    "            #print(self.weights)\n",
    "            # check for convergence\n",
    "            if np.linalg.norm(dw, ord=1) < self.tol:\n",
    "                break\n",
    "               \n",
    "    def predict(self,X):\n",
    "        predictions = np.dot(X,weights) + bias\n",
    "        return predictions"
   ]
  },
  {
   "cell_type": "code",
   "execution_count": 150,
   "id": "9255503d-e35e-42d2-81a3-75e4fad46dd9",
   "metadata": {},
   "outputs": [],
   "source": [
    "X = np.array([[0, 0], [1, 1], [2, 2]])\n",
    "y = np.array([0, 1, 2])\n",
    "alpha = 0.1"
   ]
  },
  {
   "cell_type": "code",
   "execution_count": 151,
   "id": "bb0a5834-344d-4209-a74e-3bee9d4196b2",
   "metadata": {},
   "outputs": [],
   "source": [
    "regressor = LassoRegression(alpha=alpha, learning_rate= 0.01, max_iter=100, tol= 1e-4)\n",
    "regressor.fit(X,y)"
   ]
  },
  {
   "cell_type": "code",
   "execution_count": 152,
   "id": "522f0c7c-5ce6-4a80-a647-c5b0529c42e2",
   "metadata": {},
   "outputs": [
    {
     "data": {
      "text/plain": [
       "array([0.40200422, 0.40200422])"
      ]
     },
     "execution_count": 152,
     "metadata": {},
     "output_type": "execute_result"
    }
   ],
   "source": [
    "regressor.weights"
   ]
  },
  {
   "cell_type": "code",
   "execution_count": 153,
   "id": "f7c2d292-fbce-4f91-8984-c6f0d5408b58",
   "metadata": {},
   "outputs": [
    {
     "data": {
      "text/plain": [
       "np.float64(0.2292368322157829)"
      ]
     },
     "execution_count": 153,
     "metadata": {},
     "output_type": "execute_result"
    }
   ],
   "source": [
    "regressor.bias"
   ]
  },
  {
   "cell_type": "code",
   "execution_count": 154,
   "id": "1ed51373-a28f-421e-b5a4-3b75a07db4bb",
   "metadata": {},
   "outputs": [
    {
     "data": {
      "text/plain": [
       "array([0.17991425, 1.00997128, 1.84002831])"
      ]
     },
     "execution_count": 154,
     "metadata": {},
     "output_type": "execute_result"
    }
   ],
   "source": [
    "regressor.predict(X)"
   ]
  },
  {
   "cell_type": "code",
   "execution_count": 155,
   "id": "cc997242-bda0-4f91-a8fb-c039bc65701e",
   "metadata": {},
   "outputs": [
    {
     "ename": "NameError",
     "evalue": "name 'plt' is not defined",
     "output_type": "error",
     "traceback": [
      "\u001b[0;31m---------------------------------------------------------------------------\u001b[0m",
      "\u001b[0;31mNameError\u001b[0m                                 Traceback (most recent call last)",
      "Cell \u001b[0;32mIn[155], line 1\u001b[0m\n\u001b[0;32m----> 1\u001b[0m \u001b[43mplot_loss_curve_log\u001b[49m\u001b[43m(\u001b[49m\u001b[43mregressor\u001b[49m\u001b[38;5;241;43m.\u001b[39;49m\u001b[43mloss_history\u001b[49m\u001b[43m)\u001b[49m\n",
      "Cell \u001b[0;32mIn[148], line 8\u001b[0m, in \u001b[0;36mplot_loss_curve_log\u001b[0;34m(losses)\u001b[0m\n\u001b[1;32m      1\u001b[0m \u001b[38;5;28;01mdef\u001b[39;00m\u001b[38;5;250m \u001b[39m\u001b[38;5;21mplot_loss_curve_log\u001b[39m(losses):\n\u001b[1;32m      2\u001b[0m \u001b[38;5;250m    \u001b[39m\u001b[38;5;124;03m\"\"\"\u001b[39;00m\n\u001b[1;32m      3\u001b[0m \u001b[38;5;124;03m    Plots loss vs epoch curve with log scale on the y-axis.\u001b[39;00m\n\u001b[1;32m      4\u001b[0m \n\u001b[1;32m      5\u001b[0m \u001b[38;5;124;03m    Parameters:\u001b[39;00m\n\u001b[1;32m      6\u001b[0m \u001b[38;5;124;03m    - losses: list of loss values per epoch\u001b[39;00m\n\u001b[1;32m      7\u001b[0m \u001b[38;5;124;03m    \"\"\"\u001b[39;00m\n\u001b[0;32m----> 8\u001b[0m     \u001b[43mplt\u001b[49m\u001b[38;5;241m.\u001b[39mfigure(figsize\u001b[38;5;241m=\u001b[39m(\u001b[38;5;241m8\u001b[39m, \u001b[38;5;241m5\u001b[39m))\n\u001b[1;32m      9\u001b[0m     plt\u001b[38;5;241m.\u001b[39mplot(losses, label\u001b[38;5;241m=\u001b[39m\u001b[38;5;124m'\u001b[39m\u001b[38;5;124mLoss\u001b[39m\u001b[38;5;124m'\u001b[39m)\n\u001b[1;32m     10\u001b[0m     plt\u001b[38;5;241m.\u001b[39mxlabel(\u001b[38;5;124m'\u001b[39m\u001b[38;5;124mEpoch\u001b[39m\u001b[38;5;124m'\u001b[39m)\n",
      "\u001b[0;31mNameError\u001b[0m: name 'plt' is not defined"
     ]
    }
   ],
   "source": [
    "plot_loss_curve_log(regressor.loss_history)"
   ]
  },
  {
   "cell_type": "code",
   "execution_count": null,
   "id": "7af40cc4-db76-4d45-b4ae-dea0f99ad71b",
   "metadata": {},
   "outputs": [],
   "source": []
  }
 ],
 "metadata": {
  "kernelspec": {
   "display_name": "myenv",
   "language": "python",
   "name": "myenv"
  },
  "language_info": {
   "codemirror_mode": {
    "name": "ipython",
    "version": 3
   },
   "file_extension": ".py",
   "mimetype": "text/x-python",
   "name": "python",
   "nbconvert_exporter": "python",
   "pygments_lexer": "ipython3",
   "version": "3.9.6"
  }
 },
 "nbformat": 4,
 "nbformat_minor": 5
}
