{
 "cells": [
  {
   "cell_type": "code",
   "execution_count": 4,
   "id": "281c077b-f85f-407d-a2da-2665c9ca1d75",
   "metadata": {},
   "outputs": [],
   "source": []
  },
  {
   "cell_type": "markdown",
   "id": "07ae584c-268f-4018-ad1d-67d68383841f",
   "metadata": {},
   "source": [
    "## Linear Regression - Power Grid Optimization ##\n",
    "\n",
    "It is the year 2157. Mars has its first thriving colony, and energy consumption is steadily on the rise. As the lead data scientist, \n",
    "you have daily power usage measurements (10 days) affected by both a growing linear trend and a daily fluctuation. The fluctuation \n",
    "follows the formula *10 X math.sin(2 * PI * (i+1) / 10)*  where i is the day number (1 through 10). Your challenge is to remove this \n",
    "known fluctuation from each data point, fit a linear regression model to the detrended data, predict day 15's base consumption, add back \n",
    "the fluctuation for day 15, and finally include a 5% safety margin. The final answer must be an integer, ensuring you meet the colony's \n",
    "future needs."
   ]
  },
  {
   "cell_type": "markdown",
   "id": "c1a19f72-9228-4e16-bc81-ade3c5bdc180",
   "metadata": {},
   "source": [
    "## See the problem here: [Deep-ML](https://www.deep-ml.com/problems/92)"
   ]
  },
  {
   "cell_type": "code",
   "execution_count": null,
   "id": "23e74047-1ec4-45ac-bfe2-b20e6a0ae760",
   "metadata": {},
   "outputs": [],
   "source": [
    "import math"
   ]
  },
  {
   "cell_type": "code",
   "execution_count": 5,
   "id": "5e757b13-9ad3-4b1f-ab9c-fcc9956e08bd",
   "metadata": {},
   "outputs": [],
   "source": [
    "PI = 3.14159"
   ]
  },
  {
   "cell_type": "code",
   "execution_count": 25,
   "id": "75fd74f0-9816-46cf-ad44-ab72ba392519",
   "metadata": {},
   "outputs": [],
   "source": [
    "def power_grid_forecast(consumption_data):\n",
    "\t# 1) Subtract the daily fluctuation (10 * sin(2π * i / 10)) from each data point.\n",
    "\t# 2) Perform linear regression on the detrended data.\n",
    "\t# 3) Predict day 15's base consumption.\n",
    "\t# 4) Add the day 15 fluctuation back.\n",
    "\t# 5) Round, then add a 5% safety margin (rounded up).\n",
    "\t# 6) Return the final integer.\n",
    "\n",
    "    # remove daily fluctuations \n",
    "    n = len(consumption_data)\n",
    "    detrended = []\n",
    "    for i in range(n):\n",
    "        daily_fluctuation = 10 * math.sin(2 * PI * (i+1) / 10)\n",
    "        detrended.append(consumption_data[i] - daily_fluctuation)\n",
    "\n",
    "    # Step 2: Linear regression (y = a * x + b)\n",
    "    \"\"\"\n",
    "    Simple Linear Regression using Least Squares Method.\n",
    "    \n",
    "    This implementation finds the best-fit line y = ax + b for a given set of data points (x_i, y_i).\n",
    "    \n",
    "    Theory:\n",
    "    --------\n",
    "    The goal is to minimize the sum of squared differences between actual values (y_i)\n",
    "    and predicted values (ŷ_i = ax_i + b). This is known as the least squares criterion.\n",
    "    \n",
    "    Steps:\n",
    "    ------\n",
    "    1. Compute the means of x and y:\n",
    "    x̄ = sum(x_vals) / n\n",
    "    ȳ = sum(y_vals) / n\n",
    "    \n",
    "    2. Compute the slope 'a' (also called beta_1):\n",
    "    numerator   = Σ (x_i - x̄)(y_i - ȳ)   → Covariance of x and y\n",
    "    denominator = Σ (x_i - x̄)^2           → Variance of x\n",
    "    a = numerator / denominator\n",
    "    \n",
    "    3. Compute the intercept 'b' (also called beta_0):\n",
    "    b = ȳ - a * x̄\n",
    "    \n",
    "    Result:\n",
    "    --------\n",
    "    The fitted regression line is:\n",
    "    ŷ = a * x + b\n",
    "    \n",
    "    Where:\n",
    "    - a represents the average change in y per unit change in x.\n",
    "    - b ensures the line passes through the point (x̄, ȳ).\n",
    "    \"\"\"\n",
    "\n",
    "    x = [i+1 for i in range(n)]\n",
    "    y = detrended\n",
    "    \n",
    "    x_mean = sum(x)/n\n",
    "    y_mean = sum(y) / n\n",
    "    \n",
    "    numerator = sum((x[i] - x_mean) * (y[i] - y_mean) for i in range(n)) \n",
    "    denominator = sum( (x[i] - x_mean)**2  for i in range(n))\n",
    "\n",
    "    a = numerator/denominator\n",
    "    b = y_mean - a*x_mean\n",
    "\n",
    "    # Step 3: Predict base consumption for day 15\n",
    "    day_15_base = a*15 +b \n",
    "    fluctuation = 10 * math.sin(2 * PI * 15 / 10)\n",
    "\n",
    "    # Step 4: Add fluctuation for day 15\n",
    "    day_15_total = day_15_base + fluctuation\n",
    "\n",
    "    # Step 5: Round and add 5% safety margin\n",
    "    round_total = round(day_15_total)\n",
    "    with_margin = math.ceil(round_total * 1.05)\n",
    "\n",
    "    # Step 6: Return final integer\n",
    "    return with_margin\n",
    "    \n",
    "        "
   ]
  },
  {
   "cell_type": "code",
   "execution_count": 26,
   "id": "24e3a03b-7070-4bf5-86df-75fd6fbe2bdb",
   "metadata": {},
   "outputs": [],
   "source": [
    "consumption_data = [150, 165, 185, 195, 210, 225, 240, 260, 275, 290]"
   ]
  },
  {
   "cell_type": "code",
   "execution_count": 27,
   "id": "512c522b-f3f3-49e4-a75d-8fbabddac01c",
   "metadata": {},
   "outputs": [
    {
     "data": {
      "text/plain": [
       "404"
      ]
     },
     "execution_count": 27,
     "metadata": {},
     "output_type": "execute_result"
    }
   ],
   "source": [
    "power_grid_forecast(consumption_data)"
   ]
  },
  {
   "cell_type": "code",
   "execution_count": null,
   "id": "c0ce3e27-b372-43d8-ae9b-e6aec8847dd8",
   "metadata": {},
   "outputs": [],
   "source": []
  }
 ],
 "metadata": {
  "kernelspec": {
   "display_name": "myenv",
   "language": "python",
   "name": "myenv"
  },
  "language_info": {
   "codemirror_mode": {
    "name": "ipython",
    "version": 3
   },
   "file_extension": ".py",
   "mimetype": "text/x-python",
   "name": "python",
   "nbconvert_exporter": "python",
   "pygments_lexer": "ipython3",
   "version": "3.9.6"
  }
 },
 "nbformat": 4,
 "nbformat_minor": 5
}
