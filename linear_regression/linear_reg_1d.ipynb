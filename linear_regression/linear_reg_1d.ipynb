{
 "cells": [
  {
   "cell_type": "code",
   "execution_count": 2,
   "id": "baa0928a-9007-415c-be63-8e41ad30e8d9",
   "metadata": {},
   "outputs": [
    {
     "name": "stdout",
     "output_type": "stream",
     "text": [
      "--2025-05-03 02:05:29--  https://raw.githubusercontent.com/alirezadir/Machine-Learning-Interviews/refs/heads/main/src/MLC/notebooks/linear_regression.ipynb\n",
      "Resolving raw.githubusercontent.com (raw.githubusercontent.com)... 185.199.108.133, 185.199.109.133, 185.199.110.133, ...\n",
      "Connecting to raw.githubusercontent.com (raw.githubusercontent.com)|185.199.108.133|:443... connected.\n",
      "HTTP request sent, awaiting response... 200 OK\n",
      "Length: 23591 (23K) [text/plain]\n",
      "Saving to: ‘linear_regression.ipynb.1’\n",
      "\n",
      "linear_regression.i 100%[===================>]  23.04K  --.-KB/s    in 0.001s  \n",
      "\n",
      "2025-05-03 02:05:29 (30.6 MB/s) - ‘linear_regression.ipynb.1’ saved [23591/23591]\n",
      "\n"
     ]
    }
   ],
   "source": [
    "!wget https://raw.githubusercontent.com/alirezadir/Machine-Learning-Interviews/refs/heads/main/src/MLC/notebooks/linear_regression.ipynb"
   ]
  },
  {
   "cell_type": "markdown",
   "id": "83329387-ddca-4db1-aa26-c1a375379966",
   "metadata": {},
   "source": [
    "## [Ref](https://github.com/alirezadir/Machine-Learning-Interviews/tree/main/src/MLC/notebooks) @alirezadir/Machine-Learning-Interviews/"
   ]
  },
  {
   "cell_type": "markdown",
   "id": "76512e53-2ab0-4320-9749-62db53990ac8",
   "metadata": {},
   "source": [
    "# Linear Regression \n",
    "\n",
    "Linear regression is a statistical method used to model the relationship between a dependent variable (often denoted as \"y\") and one or more independent variables (often denoted as \"x\"). The basic idea of linear regression is to find the straight line that best fits the data points in a scatter plot.\n",
    "\n",
    "The most common form of linear regression is simple linear regression, which models the relationship between two variables:\n",
    "\n",
    "$y = mx + b$\n",
    "\n",
    "where y is the dependent variable, x is the independent variable, m is the slope, and b is the intercept. \n",
    "\n",
    "Given a set of input data ($\\{x_i, y_i\\}$), the goal of linear regression is to find the values of m and b that best fit the data\n",
    "\n",
    "\n",
    "The values of m and b are chosen to minimize the \"sum of squared errors\" (SSE) $(\\sum (y - \\hat{y})^2)$.\n",
    "\n",
    "Taking the partial derivatives with respect to m and b, set them equal to 0, and solve for m and b, we get:\n",
    "\n",
    "m = sum((x - x_mean) * (y - y_mean)) / sum((x - x_mean)^2)   \n",
    "b =  y_mean - m * x_mean\n",
    "\n",
    "\n",
    "Multiple linear regression is a more general form of linear regression that models the relationship between multiple independent variables and one dependent variable. The formula for the best-fit hyperplane in multiple linear regression is:\n",
    "\n",
    "$y = w_0 + w_1.x_1 + w_2.x_2 + ... + w_n.x_n = X^T. W$"
   ]
  },
  {
   "cell_type": "code",
   "execution_count": 2,
   "id": "d2f86746-e92d-456c-bcf5-477016f0cf5b",
   "metadata": {},
   "outputs": [],
   "source": [
    "import numpy as np"
   ]
  },
  {
   "cell_type": "code",
   "execution_count": 5,
   "id": "dd91cc5f-51b8-4705-8191-605d8150a4be",
   "metadata": {},
   "outputs": [],
   "source": [
    "X = np.array([1, 2, 3, 4, 5])\n",
    "y = np.array([2, 4, 5, 4, 5])"
   ]
  },
  {
   "cell_type": "code",
   "execution_count": 7,
   "id": "81cc1f69-8296-4885-b8a5-cb856e561c21",
   "metadata": {},
   "outputs": [
    {
     "data": {
      "text/plain": [
       "np.float64(-0.2)"
      ]
     },
     "execution_count": 7,
     "metadata": {},
     "output_type": "execute_result"
    }
   ],
   "source": [
    "m = sum((X-np.mean(X))*(y-np.mean(y))) / sum((X-np.mean(X)**2))\n",
    "m "
   ]
  },
  {
   "cell_type": "code",
   "execution_count": 8,
   "id": "4339af8a-9324-42bb-a4cf-f25e354c52b7",
   "metadata": {},
   "outputs": [
    {
     "name": "stderr",
     "output_type": "stream",
     "text": [
      "/tmp/ipykernel_732/1177965158.py:1: RuntimeWarning: invalid value encountered in scalar divide\n",
      "  m = sum((y-np.mean(y))) / sum((X-np.mean(X)))\n"
     ]
    },
    {
     "data": {
      "text/plain": [
       "np.float64(nan)"
      ]
     },
     "execution_count": 8,
     "metadata": {},
     "output_type": "execute_result"
    }
   ],
   "source": [
    "m = sum((y-np.mean(y))) / sum((X-np.mean(X)))\n",
    "m "
   ]
  },
  {
   "cell_type": "code",
   "execution_count": 9,
   "id": "7a650dc1-4e75-4cb2-9c96-275f508767c9",
   "metadata": {},
   "outputs": [
    {
     "data": {
      "text/plain": [
       "array([-2., -1.,  0.,  1.,  2.])"
      ]
     },
     "execution_count": 9,
     "metadata": {},
     "output_type": "execute_result"
    }
   ],
   "source": [
    "X-np.mean(X)"
   ]
  },
  {
   "cell_type": "code",
   "execution_count": 32,
   "id": "57c31098-1cc3-43e5-a27e-2698c3521bad",
   "metadata": {},
   "outputs": [],
   "source": [
    "class LinearRegression():\n",
    "    def __init__(self):\n",
    "        self.slope = None\n",
    "        self.intercept = None\n",
    "    def fit(self,X,y):\n",
    "        #self.slope = sum((X-np.mean(X))*(y-np.mean(y))) / sum((X-np.mean(X)**2))\n",
    "        #self.intercept= np.mean(y) - self.slope*np.mean(X)\n",
    "        x_mean = np.mean(X)\n",
    "        y_mean = np.mean(y)\n",
    "        numerator, denominator = 0,0\n",
    "        for i in range(len(X)):\n",
    "            numerator += (X[i]-x_mean)*(y[i] - y_mean)\n",
    "            denominator += (X[i]-x_mean)**2\n",
    "        #numerator = sum((X-x_mean) * (y-y_mean))\n",
    "        #denominator = sum((X-x_mean)**2)\n",
    "        self.slope = numerator/denominator\n",
    "        self.intercept = y_mean - self.slope*x_mean\n",
    "    def predict(self, X):\n",
    "        pred = []\n",
    "        for i in range(len(X)):\n",
    "            res = X[i]*self.slope + self.intercept\n",
    "            pred.append(res)\n",
    "        return pred"
   ]
  },
  {
   "cell_type": "code",
   "execution_count": 33,
   "id": "c0eb46b5-d36a-4255-83c7-2be5f0ec9a7c",
   "metadata": {},
   "outputs": [
    {
     "name": "stdout",
     "output_type": "stream",
     "text": [
      "0.6\n",
      "2.2\n",
      "['2.80', '3.40', '4.00', '4.60', '5.20']\n"
     ]
    }
   ],
   "source": [
    "X = np.array([1, 2, 3, 4, 5])\n",
    "y = np.array([2, 4, 5, 4, 5])\n",
    "lr = LinearRegression()\n",
    "lr.fit(X, y)\n",
    "print(lr.slope)  # Output: 0.6\n",
    "print(lr.intercept)  # Output: 2.2\n",
    "y_pred = lr.predict(X)\n",
    "str_array = [f\"{x:.2f}\" for x in y_pred]\n",
    "print(str_array)"
   ]
  },
  {
   "cell_type": "code",
   "execution_count": null,
   "id": "7c3b97a8-3f38-4d4b-b941-bbd54060174a",
   "metadata": {},
   "outputs": [],
   "source": [
    "# Output: [2.8, 3.4, 4.0, 4.6, 5.2]\n"
   ]
  },
  {
   "cell_type": "markdown",
   "id": "b536eefd-6444-4737-a9d5-7572e4604133",
   "metadata": {},
   "source": [
    "## Vectorized"
   ]
  },
  {
   "cell_type": "markdown",
   "id": "348c0bf2-ae4c-4e0a-a388-1679bbf4e9ad",
   "metadata": {},
   "source": [
    "$y = X.W$  \n",
    "$W = (X^T.X)^{-1}X^T.y $"
   ]
  },
  {
   "cell_type": "code",
   "execution_count": 36,
   "id": "8e8b2dda-39ef-4561-87b8-2ebae1f50188",
   "metadata": {},
   "outputs": [
    {
     "data": {
      "text/plain": [
       "array([[1.],\n",
       "       [1.],\n",
       "       [1.]])"
      ]
     },
     "execution_count": 36,
     "metadata": {},
     "output_type": "execute_result"
    }
   ],
   "source": [
    "np.ones((3,1))"
   ]
  },
  {
   "cell_type": "code",
   "execution_count": 37,
   "id": "e644b06e-b91e-46a8-a1a4-9a1e5abea09a",
   "metadata": {},
   "outputs": [],
   "source": [
    "# @ means np.matmul"
   ]
  },
  {
   "cell_type": "code",
   "execution_count": 30,
   "id": "29f53700-0485-4e59-8d09-8b05f1385f30",
   "metadata": {},
   "outputs": [],
   "source": [
    "class LinearRegression():\n",
    "    def __init__(self):\n",
    "        self.W = None\n",
    "    def fit(self, X, y):\n",
    "        n = X.shape[0]\n",
    "        X = np.hstack([np.ones((n,1)),X])\n",
    "        self.W = np.linalg.inv(X.T @ X) @ X.T @ y\n",
    "    def predict(self, X):\n",
    "        n = X.shape[0]\n",
    "        X = np.hstack([np.ones((n,1)),X])\n",
    "        return X @ self.W"
   ]
  },
  {
   "cell_type": "code",
   "execution_count": 31,
   "id": "8069c3a1-3ded-4d23-96bd-a36b78f3dc51",
   "metadata": {},
   "outputs": [
    {
     "name": "stdout",
     "output_type": "stream",
     "text": [
      "[2.2 0.6]\n",
      "['2.80', '3.40', '4.00', '4.60', '5.20']\n"
     ]
    }
   ],
   "source": [
    "X = np.array([[1], [2], [3], [4], [5]])\n",
    "y = np.array([2, 4, 5, 4, 5])\n",
    "lr = LinearRegression()\n",
    "lr.fit(X, y)\n",
    "print(lr.W)  # Output: (bias, w)= 2.2, 0.6\n",
    "y_pred = lr.predict(X)\n",
    "str_array = [f\"{x:.2f}\" for x in y_pred]\n",
    "print(str_array)"
   ]
  },
  {
   "cell_type": "code",
   "execution_count": null,
   "id": "4253d187-f578-41be-828a-12b1a6245b21",
   "metadata": {},
   "outputs": [],
   "source": []
  },
  {
   "cell_type": "markdown",
   "id": "c242a5e1-557b-4a58-a293-c88a8c942b4b",
   "metadata": {},
   "source": [
    "### Improvements \n",
    "here are some improvements to the simple linear regression implementation to make it more robust:\n",
    "\n",
    "1. Add input **validation**: Add input validation to check that the input arrays X and y have the same length and are not empty.\n",
    "\n",
    "2. Use NumPy broadcasting: Instead of looping through the data to calculate the numerator and denominator, we can use NumPy broadcasting to perform the calculations in a vectorized way. This will make the code faster and more efficient.\n",
    "\n",
    "3. Add **regularization**: Regularization can help prevent overfitting by adding a penalty term to the cost function. One common regularization technique is L2 regularization, which adds the sum of squares of the coefficients to the cost function. This can be easily added to the code by adding a regularization parameter to the constructor.\n",
    "\n",
    "4. Use **gradient descent**: For large datasets, calculating the inverse of the matrix in the normal equation can be computationally expensive. To overcome this, we can use gradient descent to minimize the cost function. This can be implemented by adding a method that updates the coefficients iteratively using the gradient descent algorithm.\n",
    "\n",
    "Here's the updated code that incorporates these improvements:"
   ]
  },
  {
   "cell_type": "code",
   "execution_count": 5,
   "id": "e4f269be-76f5-408a-a9d2-f6ed2f1bd20e",
   "metadata": {},
   "outputs": [
    {
     "data": {
      "text/plain": [
       "array([[0.],\n",
       "       [0.],\n",
       "       [0.],\n",
       "       [0.]])"
      ]
     },
     "execution_count": 5,
     "metadata": {},
     "output_type": "execute_result"
    }
   ],
   "source": [
    "np.zeros((4,1))"
   ]
  },
  {
   "cell_type": "code",
   "execution_count": null,
   "id": "47950b86-8491-45fe-8924-e5de3d4b03bd",
   "metadata": {},
   "outputs": [],
   "source": []
  },
  {
   "cell_type": "code",
   "execution_count": null,
   "id": "c9b6cb93-85fa-4141-be02-4b48329af8ca",
   "metadata": {},
   "outputs": [],
   "source": []
  },
  {
   "cell_type": "code",
   "execution_count": 32,
   "id": "f9346a65-909d-4402-867b-731c9fb2e564",
   "metadata": {},
   "outputs": [],
   "source": [
    "class LinearRegression():\n",
    "    def __init__(self, reg):\n",
    "        self.reg = reg\n",
    "        self.W = None\n",
    "\n",
    "    def fit(self,X,y, lr= 0.01,num_iter =1000):\n",
    "        n = X.shape[0]\n",
    "        if n!= len(y):\n",
    "            raise ValueError(\"X and y must have the same length and cannot be empty\")\n",
    "        X = np.hstack([np.ones((n,1)),X])\n",
    "        self.W = np.zeros(X.shape[1])\n",
    "        for i in range(num_iter):\n",
    "            y_pred = np.dot(X,self.W)\n",
    "            cost = np.sum((y_pred - y) ** 2) + self.reg * np.sum(self.W ** 2)\n",
    "            gradient = 2*np.dot(X.T,(y_pred -y)) + 2 * self.reg * self.W\n",
    "            self.W = self.W - lr*gradient\n",
    "            if (i % 100 == 0 ): \n",
    "                print(cost)\n",
    "    def predict(self, X):\n",
    "        n = X.shape[0]\n",
    "        X = np.hstack([np.ones((n,1)),X])\n",
    "        y_pred = np.dot(X,self.W)\n",
    "        return y_pred"
   ]
  },
  {
   "cell_type": "code",
   "execution_count": 33,
   "id": "a50f7887-c08a-4c3e-af97-d868b55acdfc",
   "metadata": {},
   "outputs": [
    {
     "name": "stdout",
     "output_type": "stream",
     "text": [
      "86.0\n",
      "2.553368264631959\n",
      "2.4547790458769203\n",
      "2.451651012832223\n",
      "2.451551766780248\n",
      "2.451548617907236\n",
      "2.451548517999975\n",
      "2.4515485148301255\n",
      "2.4515485147295517\n",
      "2.451548514726361\n",
      "[2.17786125 0.60592767]\n",
      "['2.78', '3.39', '4.00', '4.60', '5.21']\n"
     ]
    }
   ],
   "source": [
    "X = np.array([[1], [2], [3], [4], [5]])\n",
    "y = np.array([2, 4, 5, 4, 5])\n",
    "lr = LinearRegression(0.01)\n",
    "lr.fit(X, y )\n",
    "print(lr.W)  # Output: (bias, w)= 2.2, 0.6\n",
    "y_pred = lr.predict(X)\n",
    "str_array = [f\"{x:.2f}\" for x in y_pred]\n",
    "print(str_array)"
   ]
  },
  {
   "cell_type": "code",
   "execution_count": 37,
   "id": "ee55de7d-83e6-4861-82bd-e69fa223dd1b",
   "metadata": {},
   "outputs": [
    {
     "data": {
      "image/png": "[encoded data removed]",
      "text/plain": [
       "<Figure size 640x480 with 1 Axes>"
      ]
     },
     "metadata": {},
     "output_type": "display_data"
    }
   ],
   "source": [
    "import matplotlib.pyplot as plt\n",
    "plt.scatter(X, y, color='blue')\n",
    "plt.plot(X,y_pred, color='red')\n",
    "plt.xlabel('X')\n",
    "plt.ylabel('Y')\n",
    "plt.show()"
   ]
  },
  {
   "cell_type": "code",
   "execution_count": null,
   "id": "69b90925-d9dc-493e-9005-e1f02568ac52",
   "metadata": {},
   "outputs": [],
   "source": []
  },
  {
   "cell_type": "code",
   "execution_count": null,
   "id": "da6b7c03-d5b2-4b22-ac84-b63a8afa4b24",
   "metadata": {},
   "outputs": [],
   "source": []
  }
 ],
 "metadata": {
  "kernelspec": {
   "display_name": "Python 3 (ipykernel)",
   "language": "python",
   "name": "python3"
  },
  "language_info": {
   "codemirror_mode": {
    "name": "ipython",
    "version": 3
   },
   "file_extension": ".py",
   "mimetype": "text/x-python",
   "name": "python",
   "nbconvert_exporter": "python",
   "pygments_lexer": "ipython3",
   "version": "3.12.1"
  }
 },
 "nbformat": 4,
 "nbformat_minor": 5
}
